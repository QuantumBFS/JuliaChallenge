{
 "cells": [
  {
   "cell_type": "markdown",
   "metadata": {},
   "source": [
    "# Section I: Basic Array Operations\n",
    "\n",
    "* Julia Matrix Operation is fast. To know how fast it is, you need a benchmark package. Type `]` and `add BenchmarkTools` in your REPL.\n",
    "* To enter REPL, type `julia` in your terminal (path should be set correctly).\n",
    "* To get help in REPL, type `?` to enter API mode.\n",
    "* To run shell command in REPL, type `;` to enter shell mode.\n",
    "* To input `≈`, type `\\approx<TAB>`, see full list of unicode input of julia [here](https://docs.julialang.org/en/v1/manual/unicode-input/).\n",
    "* `@test` means stop program and throw and exception whenever a clause returns `false`. \"function\" start with `@` character is called a [macro](https://docs.julialang.org/en/v1/manual/metaprogramming/)."
   ]
  },
  {
   "cell_type": "code",
   "execution_count": 143,
   "metadata": {},
   "outputs": [
    {
     "data": {
      "text/plain": [
       "BenchmarkTools.Trial: \n",
       "  memory estimate:  144 bytes\n",
       "  allocs estimate:  1\n",
       "  --------------\n",
       "  minimum time:     50.365 ns (0.00% GC)\n",
       "  median time:      63.638 ns (0.00% GC)\n",
       "  mean time:        84.382 ns (15.04% GC)\n",
       "  maximum time:     3.667 μs (95.93% GC)\n",
       "  --------------\n",
       "  samples:          10000\n",
       "  evals/sample:     987"
      ]
     },
     "execution_count": 143,
     "metadata": {},
     "output_type": "execute_result"
    }
   ],
   "source": [
    "using BenchmarkTools, Test\n",
    "\n",
    "cnot = [1 0 0 0; 0 1 0 0; 0 0 0 1; 0 0 1 0]  # a matrix\n",
    "b = [1, 1im, true, 0.4e2] # a vector\n",
    "c = [1, 1im, 0.4e2, true] # a vector\n",
    "\n",
    "# run a test\n",
    "@test cnot*b ≈ c\n",
    "\n",
    "# run a benchmark\n",
    "res1 = @benchmark $cnot*$b"
   ]
  },
  {
   "cell_type": "markdown",
   "metadata": {},
   "source": [
    "# Can it be faster? Yes if the matrix is small and static!\n",
    "\n",
    "For static array, we can avoid all allocations.\n",
    "\n",
    "### **Challenge!**\n",
    "Read the document of package `StaticArrays`\n",
    "https://github.com/JuliaArrays/StaticArrays.jl\n",
    "and show it is really fast!"
   ]
  },
  {
   "cell_type": "code",
   "execution_count": 32,
   "metadata": {},
   "outputs": [
    {
     "data": {
      "text/plain": [
       "\u001b[32m\u001b[1mTest Passed\u001b[22m\u001b[39m"
      ]
     },
     "execution_count": 32,
     "metadata": {},
     "output_type": "execute_result"
    }
   ],
   "source": [
    "# install and using the package\n",
    "# sa = <some static matrix> \n",
    "# sb = <some static vector> \n",
    "\n",
    "using StaticArrays: SMatrix, SVector\n",
    "scnot = SMatrix{4, 4}(cnot)\n",
    "sb = SVector{4}(b)\n",
    "\n",
    "@test scnot*sb ≈ c\n",
    "\n",
    "using Statistics: median\n",
    "res2 = @benchmark $scnot*$sb\n",
    "@test median(res2).time < median(res1).time / 5  # at least 5 times faster"
   ]
  },
  {
   "cell_type": "markdown",
   "metadata": {},
   "source": [
    "# Linear Algebra\n",
    "\n",
    "[docs](https://docs.julialang.org/en/v1/stdlib/LinearAlgebra/)\n",
    "\n",
    "### **Challenge!**\n",
    "Try to figure out how to use get eigenvalues, singular values and qr and pass the test"
   ]
  },
  {
   "cell_type": "code",
   "execution_count": 51,
   "metadata": {},
   "outputs": [
    {
     "data": {
      "text/plain": [
       "\u001b[32m\u001b[1mTest Passed\u001b[22m\u001b[39m"
      ]
     },
     "execution_count": 51,
     "metadata": {},
     "output_type": "execute_result"
    }
   ],
   "source": [
    "using LinearAlgebra: eigen, svd, qr\n",
    "# hint, here you probabily want to type `?` to get help in REPL.\n",
    "\n",
    "# sv = <get the singular value of matrix cnot>\n",
    "# ev = <get the eigenvalue of matrix cnot>\n",
    "# q = <get the Q matrix from QR decomposition of cnot>\n",
    "sv = svd(cnot).S\n",
    "ev = eigen(cnot).values\n",
    "q = qr(cnot).Q\n",
    "\n",
    "@test sv ≈ ones(4)\n",
    "@test ev ≈ [-1, 1, 1, 1]\n",
    "@test q*q' ≈ I"
   ]
  },
  {
   "cell_type": "markdown",
   "metadata": {},
   "source": [
    "# Large sparse matrix\n",
    "\n",
    "[KrylovKit](https://github.com/Jutho/KrylovKit.jl) is a package for solving large sparse matrix.\n",
    "\n",
    "### **Challenge!**\n",
    "Get the lowest singular value of specific sparse matrix"
   ]
  },
  {
   "cell_type": "code",
   "execution_count": 79,
   "metadata": {},
   "outputs": [
    {
     "data": {
      "text/plain": [
       "\u001b[32m\u001b[1mTest Passed\u001b[22m\u001b[39m"
      ]
     },
     "execution_count": 79,
     "metadata": {},
     "output_type": "execute_result"
    }
   ],
   "source": [
    "using SparseArrays\n",
    "sp = kron(SparseMatrixCSC(cnot), sparse(I, 100, 100))\n",
    "\n",
    "# ev = <get lowest eigenvalue of sp>\n",
    "using KrylovKit\n",
    "ev = eigsolve(sp, 1, :SR)[1][1]\n",
    "\n",
    "@test vals[1] ≈ minimum(eigen(sp |> Matrix).values)"
   ]
  },
  {
   "cell_type": "markdown",
   "metadata": {},
   "source": [
    "# Tensor contraction\n",
    "\n",
    "[TensorOperations](https://github.com/Jutho/TensorOperations.jl) is a high performance package for tensor contractions.\n",
    "\n",
    "\n",
    "### **Challenge!**\n",
    "Try to calculate the following contraction\n",
    "$C_{lj} = A_{i,j,k}B_{i,k,l}$"
   ]
  },
  {
   "cell_type": "code",
   "execution_count": 55,
   "metadata": {},
   "outputs": [
    {
     "data": {
      "text/plain": [
       "\u001b[32m\u001b[1mTest Passed\u001b[22m\u001b[39m"
      ]
     },
     "execution_count": 55,
     "metadata": {},
     "output_type": "execute_result"
    }
   ],
   "source": [
    "A = randn(6, 10, 5)\n",
    "B = randn(6, 5, 7)\n",
    "\n",
    "# ] add TensorOperations, and using it\n",
    "# @tensor C[a, b] := <specify contraction>\n",
    "\n",
    "# using TensorOperations\n",
    "# @tensor C[l,j] := A[i,j,k] * B[i,k,l]\n",
    "\n",
    "@test C |> size == (7, 10)  # here `x |> f` is same as calling f(x)."
   ]
  },
  {
   "cell_type": "markdown",
   "metadata": {},
   "source": [
    "# Save and load data\n",
    "\n",
    "[DelimitedFiles](https://docs.julialang.org/en/v1/stdlib/DelimitedFiles/index.html) is the `txt` format save and load standard module.\n",
    "\n",
    "[JLD2 and FileIO](https://github.com/simonster/JLD2.jl) uses HDF5 format to save and load, suited for large data file.\n",
    "\n",
    "\n",
    "### **Challenge!**\n",
    "Read out the saved data."
   ]
  },
  {
   "cell_type": "code",
   "execution_count": 142,
   "metadata": {},
   "outputs": [
    {
     "data": {
      "text/plain": [
       "\u001b[32m\u001b[1mTest Passed\u001b[22m\u001b[39m"
      ]
     },
     "execution_count": 142,
     "metadata": {},
     "output_type": "execute_result"
    }
   ],
   "source": [
    "using DelimitedFiles\n",
    "\n",
    "a = randn(Float64, 3,3)\n",
    "writedlm(\"_test.dat\", a)\n",
    "# b = <read data from file `_test.dat`>\n",
    "b = readdlm(\"_test.dat\")\n",
    "@test b ≈ a\n",
    "\n",
    "# FileIO\n",
    "# ] add FileIO\n",
    "using FileIO\n",
    "jldopen(\"_example.jld2\", \"w\") do f\n",
    "    f[\"A\"] = a\n",
    "end\n",
    "\n",
    "b_jld2 = load(\"_example.jld2\")[\"A\"]\n",
    "@test b_jld2 ≈ a"
   ]
  },
  {
   "cell_type": "markdown",
   "metadata": {},
   "source": [
    "# `######################################################`\n",
    "# Now, you can embrace the world of Notebooks!\n",
    "# But not programmer's world, this is why we have an advanced session ;D\n",
    "# `######################################################`"
   ]
  },
  {
   "cell_type": "markdown",
   "metadata": {},
   "source": [
    "# Defining functions\n",
    "\n",
    "We have [multiple dispatch](https://docs.julialang.org/en/v1/manual/functions/) + [type tree](https://docs.julialang.org/en/v1/manual/types/) instead of classes in object oriented design."
   ]
  },
  {
   "cell_type": "code",
   "execution_count": 144,
   "metadata": {},
   "outputs": [
    {
     "data": {
      "text/plain": [
       "\u001b[32m\u001b[1mTest Passed\u001b[22m\u001b[39m"
      ]
     },
     "execution_count": 144,
     "metadata": {},
     "output_type": "execute_result"
    }
   ],
   "source": [
    "f(x) = x^2\n",
    "function f(x::Vector{T}) where T\n",
    "    append!(copy(x), x)\n",
    "end\n",
    "function f(x::Vector{T}) where T\n",
    "    append!(copy(x), x)\n",
    "end\n",
    "# inplace vector version of f\n",
    "function f!(x::Vector{T}) where T\n",
    "    append!(x, x)\n",
    "end\n",
    "f(x::String) = x^2\n",
    "\n",
    "@test f(3) == 9\n",
    "@test f.([1,2,3,4,5]) == [1,4,9,16,25]  # broadcast\n",
    "@test f(\"bili\") == \"bilibili\"\n",
    "@test f.([\"bili\", \"dili\"]) == [\"bilibili\", \"dilidili\"]\n",
    "\n",
    "x = [1, 2, 3]\n",
    "@test f(x) == [1,2,3,1,2,3]  #\n",
    "y = copy(x)\n",
    "@test (f!(y); y) == [1,2,3,1,2,3]  # inplace version of f"
   ]
  },
  {
   "cell_type": "markdown",
   "metadata": {},
   "source": [
    "# Final Boss\n",
    "\n",
    "Fix the code of simulated annealing, this is the code chanlledge of 2016 UCAS summer school."
   ]
  },
  {
   "cell_type": "code",
   "execution_count": null,
   "metadata": {},
   "outputs": [],
   "source": []
  }
 ],
 "metadata": {
  "kernelspec": {
   "display_name": "Julia 1.0.0",
   "language": "julia",
   "name": "julia-1.0"
  },
  "language_info": {
   "file_extension": ".jl",
   "mimetype": "application/julia",
   "name": "julia",
   "version": "1.0.0"
  }
 },
 "nbformat": 4,
 "nbformat_minor": 2
}
