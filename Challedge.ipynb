{
 "cells": [
  {
   "cell_type": "markdown",
   "metadata": {},
   "source": [
    "# Section I: Basic Array Operations\n",
    "\n",
    "* To enter REPL, type `julia` in your terminal (PATH variable in shell should be set correctly).\n",
    "* To get help in REPL, type `?` to enter `API` mode.\n",
    "* To install a package, type `]` to enter `Pkg` mode. Type `?<Enter>` if you want some help in `Pkg` mode.\n",
    "* To run shell command in REPL, type `;` to enter shell mode.\n",
    "* To input `≈`, type `\\approx<TAB>`, see full list of unicode input of julia [here](https://docs.julialang.org/en/v1/manual/unicode-input/).\n",
    "* `@test` means stop program and throw and exception whenever a clause returns `false`. \"function\" start with `@` character is called a [macro](https://docs.julialang.org/en/v1/manual/metaprogramming/)."
   ]
  },
  {
   "cell_type": "code",
   "execution_count": 2,
   "metadata": {},
   "outputs": [
    {
     "data": {
      "text/plain": [
       "BenchmarkTools.Trial: \n",
       "  memory estimate:  144 bytes\n",
       "  allocs estimate:  1\n",
       "  --------------\n",
       "  minimum time:     55.177 ns (0.00% GC)\n",
       "  median time:      59.870 ns (0.00% GC)\n",
       "  mean time:        73.669 ns (14.85% GC)\n",
       "  maximum time:     61.859 μs (99.82% GC)\n",
       "  --------------\n",
       "  samples:          10000\n",
       "  evals/sample:     979"
      ]
     },
     "execution_count": 2,
     "metadata": {},
     "output_type": "execute_result"
    }
   ],
   "source": [
    "# Julia Matrix Operation is fast. To know how fast it is, you need a benchmark package. Type `]` and `add BenchmarkTools<Enter>` in your REPL.\n",
    "using BenchmarkTools, Test\n",
    "\n",
    "cnot = [1 0 0 0; 0 1 0 0; 0 0 0 1; 0 0 1 0]  # a matrix\n",
    "b = [1, 1im, true, 0.4e2] # a vector\n",
    "c = [1, 1im, 0.4e2, true] # a vector\n",
    "\n",
    "# run tests\n",
    "@test cnot*b ≈ c\n",
    "@test_throws DimensionMismatch cnot*randn(3)  # expected to raise specific error\n",
    "\n",
    "# run a benchmark\n",
    "res1 = @benchmark $cnot*$b  # `$` sign means evaluation first, used in `@benchmark` to avoid taking time to evaluate cnot input account."
   ]
  },
  {
   "cell_type": "markdown",
   "metadata": {},
   "source": [
    "# Can it be faster? Yes if the matrix is small and static!\n",
    "\n",
    "For static array, we can avoid all allocations.\n",
    "\n",
    "### **Used in**\n",
    "* Quantum Circuit Simulation\n",
    "\n",
    "### **Challenge!**\n",
    "Read the document of package `StaticArrays`\n",
    "https://github.com/JuliaArrays/StaticArrays.jl\n",
    "and show it is really fast!"
   ]
  },
  {
   "cell_type": "code",
   "execution_count": 3,
   "metadata": {},
   "outputs": [
    {
     "name": "stdout",
     "output_type": "stream",
     "text": [
      "\u001b[37mstatic arrays: \u001b[39m\u001b[91m\u001b[1mError During Test\u001b[22m\u001b[39m at \u001b[39m\u001b[1mIn[3]:8\u001b[22m\n",
      "  Test threw exception\n",
      "  Expression: scnot * sb ≈ c\n",
      "  UndefVarError: scnot not defined\n",
      "  Stacktrace:\n",
      "   [1] macro expansion at ./In[3]:8 [inlined]\n",
      "   [2] macro expansion at /buildworker/worker/package_linux64/build/usr/share/julia/stdlib/v1.0/Test/src/Test.jl:1083 [inlined]\n",
      "   [3] top-level scope at ./In[3]:8\n",
      "\u001b[37mstatic arrays: \u001b[39m\u001b[91m\u001b[1mError During Test\u001b[22m\u001b[39m at \u001b[39m\u001b[1mIn[3]:7\u001b[22m\n",
      "  Got exception outside of a @test\n",
      "  UndefVarError: scnot not defined\n",
      "  Stacktrace:\n",
      "   [1] macro expansion at /home/leo/.julia/packages/BenchmarkTools/dtwnm/src/execution.jl:258 [inlined]\n",
      "   [2] macro expansion at ./In[3]:10 [inlined]\n",
      "   [3] macro expansion at /buildworker/worker/package_linux64/build/usr/share/julia/stdlib/v1.0/Test/src/Test.jl:1083 [inlined]\n",
      "   [4] top-level scope at ./In[3]:8\n",
      "   [5] eval at ./boot.jl:319 [inlined]\n",
      "   [6] softscope_include_string(::Module, ::String, ::String) at /home/leo/.julia/packages/SoftGlobalScope/ujmiK/src/SoftGlobalScope.jl:206\n",
      "   [7] execute_request(::ZMQ.Socket, ::IJulia.Msg) at /home/leo/.julia/packages/IJulia/k5o7j/src/execute_request.jl:165\n",
      "   [8] #invokelatest#1 at ./essentials.jl:686 [inlined]\n",
      "   [9] invokelatest at ./essentials.jl:685 [inlined]\n",
      "   [10] eventloop(::ZMQ.Socket) at /home/leo/.julia/packages/IJulia/k5o7j/src/eventloop.jl:8\n",
      "   [11] (::getfield(IJulia, Symbol(\"##12#15\")))() at ./task.jl:259\n",
      "\u001b[37m\u001b[1mTest Summary: | \u001b[22m\u001b[39m\u001b[91m\u001b[1mError  \u001b[22m\u001b[39m\u001b[36m\u001b[1mTotal\u001b[22m\u001b[39m\n",
      "static arrays | \u001b[91m    2  \u001b[39m\u001b[36m    2\u001b[39m\n"
     ]
    },
    {
     "ename": "TestSetException",
     "evalue": "Some tests did not pass: 0 passed, 0 failed, 2 errored, 0 broken.",
     "output_type": "error",
     "traceback": [
      "Some tests did not pass: 0 passed, 0 failed, 2 errored, 0 broken.",
      "",
      "Stacktrace:",
      " [1] finish(::Test.DefaultTestSet) at /buildworker/worker/package_linux64/build/usr/share/julia/stdlib/v1.0/Test/src/Test.jl:847",
      " [2] macro expansion at /home/leo/.julia/packages/BenchmarkTools/dtwnm/src/execution.jl:258 [inlined]",
      " [3] macro expansion at ./In[3]:10 [inlined]",
      " [4] macro expansion at /buildworker/worker/package_linux64/build/usr/share/julia/stdlib/v1.0/Test/src/Test.jl:1083 [inlined]",
      " [5] top-level scope at ./In[3]:8"
     ]
    }
   ],
   "source": [
    "# install `StaticArrays`\n",
    "\n",
    "using StaticArrays: SMatrix, SVector\n",
    "# sa = <some static matrix> \n",
    "# sb = <some static vector> \n",
    "\n",
    "@testset \"static arrays\" begin\n",
    "    @test scnot*sb ≈ c\n",
    "    using Statistics: median\n",
    "    res2 = @benchmark $scnot*$sb\n",
    "    @test median(res2).time < median(res1).time / 5  # at least 5 times faster\n",
    "end"
   ]
  },
  {
   "cell_type": "markdown",
   "metadata": {},
   "source": [
    "# Linear Algebra\n",
    "\n",
    "See [docs](https://docs.julialang.org/en/v1/stdlib/LinearAlgebra/).\n",
    "\n",
    "### **Used in**\n",
    "* Quantum Monte Carlo\n",
    "* Non-Interacting fermionic systems (include mean field)\n",
    "\n",
    "### **Challenge!**\n",
    "Try to figure out how to use get eigenvalues, singular values and qr and pass the test"
   ]
  },
  {
   "cell_type": "code",
   "execution_count": 4,
   "metadata": {},
   "outputs": [
    {
     "name": "stdout",
     "output_type": "stream",
     "text": [
      "\u001b[37mlinalg: \u001b[39m\u001b[91m\u001b[1mError During Test\u001b[22m\u001b[39m at \u001b[39m\u001b[1mIn[4]:11\u001b[22m\n",
      "  Test threw exception\n",
      "  Expression: sv_cnot ≈ ones(4)\n",
      "  UndefVarError: sv_cnot not defined\n",
      "  Stacktrace:\n",
      "   [1] macro expansion at ./In[4]:11 [inlined]\n",
      "   [2] macro expansion at /buildworker/worker/package_linux64/build/usr/share/julia/stdlib/v1.0/Test/src/Test.jl:1083 [inlined]\n",
      "   [3] top-level scope at ./In[4]:11\n",
      "\u001b[37mlinalg: \u001b[39m\u001b[91m\u001b[1mError During Test\u001b[22m\u001b[39m at \u001b[39m\u001b[1mIn[4]:12\u001b[22m\n",
      "  Test threw exception\n",
      "  Expression: ev_cnot ≈ [-1, 1, 1, 1]\n",
      "  UndefVarError: ev_cnot not defined\n",
      "  Stacktrace:\n",
      "   [1] macro expansion at ./In[4]:12 [inlined]\n",
      "   [2] macro expansion at /buildworker/worker/package_linux64/build/usr/share/julia/stdlib/v1.0/Test/src/Test.jl:1083 [inlined]\n",
      "   [3] top-level scope at ./In[4]:11\n",
      "\u001b[37mlinalg: \u001b[39m\u001b[91m\u001b[1mError During Test\u001b[22m\u001b[39m at \u001b[39m\u001b[1mIn[4]:13\u001b[22m\n",
      "  Test threw exception\n",
      "  Expression: q_cnot * q_cnot' ≈ I\n",
      "  UndefVarError: q_cnot not defined\n",
      "  Stacktrace:\n",
      "   [1] macro expansion at ./In[4]:13 [inlined]\n",
      "   [2] macro expansion at /buildworker/worker/package_linux64/build/usr/share/julia/stdlib/v1.0/Test/src/Test.jl:1083 [inlined]\n",
      "   [3] top-level scope at ./In[4]:11\n",
      "\u001b[37mlinalg: \u001b[39m\u001b[91m\u001b[1mError During Test\u001b[22m\u001b[39m at \u001b[39m\u001b[1mIn[4]:14\u001b[22m\n",
      "  Test threw exception\n",
      "  Expression: det_cnot == -1\n",
      "  UndefVarError: det_cnot not defined\n",
      "  Stacktrace:\n",
      "   [1] macro expansion at ./In[4]:14 [inlined]\n",
      "   [2] macro expansion at /buildworker/worker/package_linux64/build/usr/share/julia/stdlib/v1.0/Test/src/Test.jl:1083 [inlined]\n",
      "   [3] top-level scope at ./In[4]:11\n",
      "\u001b[37mlinalg: \u001b[39m\u001b[91m\u001b[1mError During Test\u001b[22m\u001b[39m at \u001b[39m\u001b[1mIn[4]:15\u001b[22m\n",
      "  Test threw exception\n",
      "  Expression: tr_cnot == 2\n",
      "  UndefVarError: tr_cnot not defined\n",
      "  Stacktrace:\n",
      "   [1] macro expansion at ./In[4]:15 [inlined]\n",
      "   [2] macro expansion at /buildworker/worker/package_linux64/build/usr/share/julia/stdlib/v1.0/Test/src/Test.jl:1083 [inlined]\n",
      "   [3] top-level scope at ./In[4]:11\n",
      "\u001b[37m\u001b[1mTest Summary: | \u001b[22m\u001b[39m\u001b[91m\u001b[1mError  \u001b[22m\u001b[39m\u001b[36m\u001b[1mTotal\u001b[22m\u001b[39m\n",
      "linalg        | \u001b[91m    5  \u001b[39m\u001b[36m    5\u001b[39m\n"
     ]
    },
    {
     "ename": "TestSetException",
     "evalue": "Some tests did not pass: 0 passed, 0 failed, 5 errored, 0 broken.",
     "output_type": "error",
     "traceback": [
      "Some tests did not pass: 0 passed, 0 failed, 5 errored, 0 broken.",
      "",
      "Stacktrace:",
      " [1] finish(::Test.DefaultTestSet) at /buildworker/worker/package_linux64/build/usr/share/julia/stdlib/v1.0/Test/src/Test.jl:847",
      " [2] macro expansion at ./In[4]:15 [inlined]",
      " [3] macro expansion at /buildworker/worker/package_linux64/build/usr/share/julia/stdlib/v1.0/Test/src/Test.jl:1083 [inlined]",
      " [4] top-level scope at ./In[4]:11"
     ]
    }
   ],
   "source": [
    "using LinearAlgebra: eigen, svd, qr, I, det, tr\n",
    "# hint, here you probabily want to type `?` and `eigen<Enter>` to get help in an REPL.\n",
    "\n",
    "# sv_cnot = <get the singular value of matrix cnot>\n",
    "# ev_cnot = <get the eigenvalue of matrix cnot>\n",
    "# q_cnot = <get the Q matrix from QR decomposition of cnot>\n",
    "# det_cnot = <get the determinant of matrix cnot>\n",
    "# tr_cnot = <get the trace of matrix cnot>\n",
    "\n",
    "@testset \"linalg\" begin\n",
    "    @test sv_cnot ≈ ones(4)\n",
    "    @test ev_cnot ≈ [-1, 1, 1, 1]\n",
    "    @test q_cnot*q_cnot' ≈ I\n",
    "    @test det_cnot == -1\n",
    "    @test tr_cnot == 2\n",
    "end"
   ]
  },
  {
   "cell_type": "markdown",
   "metadata": {},
   "source": [
    "# Large sparse matrix eigensolver\n",
    "\n",
    "[KrylovKit](https://github.com/Jutho/KrylovKit.jl) is a package for solving large sparse matrix.\n",
    "\n",
    "\n",
    "### **Used in**\n",
    "* Exact diagonalization\n",
    "* Cluster pertubation theory (CPT)\n",
    "* Numerical Renomalization Group\n",
    "\n",
    "### **Challenge!**\n",
    "Get the lowest singular value of specific sparse matrix"
   ]
  },
  {
   "cell_type": "code",
   "execution_count": 5,
   "metadata": {},
   "outputs": [
    {
     "name": "stdout",
     "output_type": "stream",
     "text": [
      "\u001b[37msparse: \u001b[39m\u001b[91m\u001b[1mError During Test\u001b[22m\u001b[39m at \u001b[39m\u001b[1mIn[5]:10\u001b[22m\n",
      "  Test threw exception\n",
      "  Expression: vals[1] ≈ minimum((eigen(sp |> Matrix)).values)\n",
      "  UndefVarError: vals not defined\n",
      "  Stacktrace:\n",
      "   [1] macro expansion at ./In[5]:10 [inlined]\n",
      "   [2] macro expansion at /buildworker/worker/package_linux64/build/usr/share/julia/stdlib/v1.0/Test/src/Test.jl:1083 [inlined]\n",
      "   [3] top-level scope at ./In[5]:9\n",
      "\u001b[37m\u001b[1mTest Summary: | \u001b[22m\u001b[39m\u001b[32m\u001b[1mPass  \u001b[22m\u001b[39m\u001b[91m\u001b[1mError  \u001b[22m\u001b[39m\u001b[36m\u001b[1mTotal\u001b[22m\u001b[39m\n",
      "sparse        | \u001b[32m   1  \u001b[39m\u001b[91m    1  \u001b[39m\u001b[36m    2\u001b[39m\n"
     ]
    },
    {
     "ename": "TestSetException",
     "evalue": "Some tests did not pass: 1 passed, 0 failed, 1 errored, 0 broken.",
     "output_type": "error",
     "traceback": [
      "Some tests did not pass: 1 passed, 0 failed, 1 errored, 0 broken.",
      "",
      "Stacktrace:",
      " [1] finish(::Test.DefaultTestSet) at /buildworker/worker/package_linux64/build/usr/share/julia/stdlib/v1.0/Test/src/Test.jl:847",
      " [2] top-level scope at /buildworker/worker/package_linux64/build/usr/share/julia/stdlib/v1.0/Test/src/Test.jl:1090"
     ]
    }
   ],
   "source": [
    "using SparseArrays: SparseMatrixCSC, sparse, nnz\n",
    "sp = kron(SparseMatrixCSC(cnot), sparse(I, 100, 100))\n",
    "\n",
    "# install `KrylovKit`\n",
    "using KrylovKit: eigsolve\n",
    "# ev = <get lowest eigenvalue of sp>\n",
    "\n",
    "@testset \"sparse\" begin\n",
    "    @test sp |> nnz == 100*4    # here `x |> f` is same as calling f(x).\n",
    "    @test vals[1] ≈ minimum(eigen(sp |> Matrix).values)\n",
    "end"
   ]
  },
  {
   "cell_type": "markdown",
   "metadata": {},
   "source": [
    "# Tensor contraction\n",
    "\n",
    "[TensorOperations](https://github.com/Jutho/TensorOperations.jl) is a high performance package for tensor contractions.\n",
    "\n",
    "### **Used in**\n",
    "* Tensor Networks (TRG, DMRG,...)\n",
    "\n",
    "\n",
    "### **Challenge!**\n",
    "Try to calculate the following contraction\n",
    "$C_{lj} = A_{i,j,k}B_{i,k,l}$"
   ]
  },
  {
   "cell_type": "code",
   "execution_count": 6,
   "metadata": {},
   "outputs": [
    {
     "name": "stdout",
     "output_type": "stream",
     "text": [
      "\u001b[91m\u001b[1mError During Test\u001b[22m\u001b[39m at \u001b[39m\u001b[1mIn[6]:8\u001b[22m\n",
      "  Test threw exception\n",
      "  Expression: C |> size == (7, 10)\n",
      "  UndefVarError: C not defined\n",
      "  Stacktrace:\n",
      "   [1] top-level scope at In[6]:6\n",
      "   [2] eval at ./boot.jl:319 [inlined]\n",
      "   [3] softscope_include_string(::Module, ::String, ::String) at /home/leo/.julia/packages/SoftGlobalScope/ujmiK/src/SoftGlobalScope.jl:206\n",
      "   [4] execute_request(::ZMQ.Socket, ::IJulia.Msg) at /home/leo/.julia/packages/IJulia/k5o7j/src/execute_request.jl:165\n",
      "   [5] #invokelatest#1 at ./essentials.jl:686 [inlined]\n",
      "   [6] invokelatest at ./essentials.jl:685 [inlined]\n",
      "   [7] eventloop(::ZMQ.Socket) at /home/leo/.julia/packages/IJulia/k5o7j/src/eventloop.jl:8\n",
      "   [8] (::getfield(IJulia, Symbol(\"##12#15\")))() at ./task.jl:259\n"
     ]
    },
    {
     "ename": "Test.FallbackTestSetException",
     "evalue": "There was an error during testing",
     "output_type": "error",
     "traceback": [
      "There was an error during testing",
      "",
      "Stacktrace:",
      " [1] record(::Test.FallbackTestSet, ::Test.Error) at /buildworker/worker/package_linux64/build/usr/share/julia/stdlib/v1.0/Test/src/Test.jl:707",
      " [2] do_test(::Test.Threw, ::Expr) at /buildworker/worker/package_linux64/build/usr/share/julia/stdlib/v1.0/Test/src/Test.jl:496",
      " [3] top-level scope at In[6]:6"
     ]
    }
   ],
   "source": [
    "A = randn(6, 10, 5)\n",
    "B = randn(6, 5, 7)\n",
    "\n",
    "# install TensorOperations\n",
    "using TensorOperations\n",
    "# @tensor C[a, b] := <specify contraction>\n",
    "\n",
    "@test C |> size == (7, 10)"
   ]
  },
  {
   "cell_type": "markdown",
   "metadata": {},
   "source": [
    "# Save and load data\n",
    "\n",
    "[DelimitedFiles](https://docs.julialang.org/en/v1/stdlib/DelimitedFiles/index.html) is the `txt` format save and load standard module.\n",
    "\n",
    "[JLD2 and FileIO](https://github.com/simonster/JLD2.jl) uses HDF5 format to save and load, suited for large data file.\n",
    "\n",
    "\n",
    "### **Challenge!**\n",
    "Read out the saved data."
   ]
  },
  {
   "cell_type": "code",
   "execution_count": 7,
   "metadata": {},
   "outputs": [
    {
     "name": "stdout",
     "output_type": "stream",
     "text": [
      "\u001b[37mfile reading: \u001b[39m\u001b[91m\u001b[1mError During Test\u001b[22m\u001b[39m at \u001b[39m\u001b[1mIn[7]:16\u001b[22m\n",
      "  Test threw exception\n",
      "  Expression: b ≈ a\n",
      "  DimensionMismatch(\"dimensions must match\")\n",
      "  Stacktrace:\n",
      "   [1] promote_shape at ./indices.jl:129 [inlined]\n",
      "   [2] promote_shape at ./indices.jl:125 [inlined]\n",
      "   [3] promote_shape(::Array{Complex{Float64},1}, ::Array{Float64,2}) at ./indices.jl:120\n",
      "   [4] - at ./arraymath.jl:38 [inlined]\n",
      "   [5] #isapprox#21(::Int64, ::Float64, ::Bool, ::typeof(LinearAlgebra.norm), ::Function, ::Array{Complex{Float64},1}, ::Array{Float64,2}) at /buildworker/worker/package_linux64/build/usr/share/julia/stdlib/v1.0/LinearAlgebra/src/generic.jl:1339\n",
      "   [6] isapprox(::Array{Complex{Float64},1}, ::Array{Float64,2}) at /buildworker/worker/package_linux64/build/usr/share/julia/stdlib/v1.0/LinearAlgebra/src/generic.jl:1339\n",
      "   [7] eval_test(::Expr, ::Expr, ::LineNumberNode) at /buildworker/worker/package_linux64/build/usr/share/julia/stdlib/v1.0/Test/src/Test.jl:229\n",
      "   [8] macro expansion at ./In[7]:16 [inlined]\n",
      "   [9] macro expansion at /buildworker/worker/package_linux64/build/usr/share/julia/stdlib/v1.0/Test/src/Test.jl:1083 [inlined]\n",
      "   [10] top-level scope at ./In[7]:16\n",
      "\u001b[37mfile reading: \u001b[39m\u001b[91m\u001b[1mError During Test\u001b[22m\u001b[39m at \u001b[39m\u001b[1mIn[7]:17\u001b[22m\n",
      "  Test threw exception\n",
      "  Expression: b_jld2 ≈ a\n",
      "  UndefVarError: b_jld2 not defined\n",
      "  Stacktrace:\n",
      "   [1] macro expansion at ./In[7]:17 [inlined]\n",
      "   [2] macro expansion at /buildworker/worker/package_linux64/build/usr/share/julia/stdlib/v1.0/Test/src/Test.jl:1083 [inlined]\n",
      "   [3] top-level scope at ./In[7]:16\n",
      "\u001b[37m\u001b[1mTest Summary: | \u001b[22m\u001b[39m\u001b[91m\u001b[1mError  \u001b[22m\u001b[39m\u001b[36m\u001b[1mTotal\u001b[22m\u001b[39m\n",
      "file reading  | \u001b[91m    2  \u001b[39m\u001b[36m    2\u001b[39m\n"
     ]
    },
    {
     "ename": "TestSetException",
     "evalue": "Some tests did not pass: 0 passed, 0 failed, 2 errored, 0 broken.",
     "output_type": "error",
     "traceback": [
      "Some tests did not pass: 0 passed, 0 failed, 2 errored, 0 broken.",
      "",
      "Stacktrace:",
      " [1] finish(::Test.DefaultTestSet) at /buildworker/worker/package_linux64/build/usr/share/julia/stdlib/v1.0/Test/src/Test.jl:847",
      " [2] top-level scope at /buildworker/worker/package_linux64/build/usr/share/julia/stdlib/v1.0/Test/src/Test.jl:1090"
     ]
    }
   ],
   "source": [
    "using DelimitedFiles\n",
    "\n",
    "a = randn(Float64, 3,3)\n",
    "writedlm(\"data/_test.dat\", a)\n",
    "# b = <read data from file `data/_test.dat`>\n",
    "\n",
    "# FileIO\n",
    "# install FileIO and JLD2\n",
    "using FileIO, JLD2\n",
    "jldopen(\"data/_example.jld2\", \"w\") do f\n",
    "    f[\"A\"] = a\n",
    "end\n",
    "\n",
    "# b_jld2 = <read data from file `data/_example.jld2`>\n",
    "@testset \"file reading\" begin\n",
    "    @test b ≈ a\n",
    "    @test b_jld2 ≈ a\n",
    "end"
   ]
  },
  {
   "cell_type": "markdown",
   "metadata": {},
   "source": [
    "# `################################################################`\n",
    "# Now, you can embrace the world of Notebooks!\n",
    "# To embrace the programmer's world, we need an **ADVANCED SESSION** ;D\n",
    "# `################################################################`"
   ]
  },
  {
   "cell_type": "markdown",
   "metadata": {},
   "source": [
    "# Dispatch Functions\n",
    "\n",
    "We have [multiple dispatch](https://docs.julialang.org/en/v1/manual/functions/) + [type tree](https://docs.julialang.org/en/v1/manual/types/) instead of classes in object oriented design."
   ]
  },
  {
   "cell_type": "code",
   "execution_count": 30,
   "metadata": {},
   "outputs": [
    {
     "data": {
      "text/plain": [
       "subtypetree"
      ]
     },
     "execution_count": 30,
     "metadata": {},
     "output_type": "execute_result"
    }
   ],
   "source": [
    "\"\"\"This is a utility of showing subtype tree.\"\"\"\n",
    "function subtypetree(t, level=1, indent=4)\n",
    "   level == 1 && println(t)\n",
    "   for s in subtypes(t)\n",
    "     println(join(fill(\" \", level * indent)) * string(s))\n",
    "     subtypetree(s, level+1, indent)\n",
    "   end\n",
    "end"
   ]
  },
  {
   "cell_type": "code",
   "execution_count": 31,
   "metadata": {},
   "outputs": [
    {
     "name": "stdout",
     "output_type": "stream",
     "text": [
      "Number\n",
      "    Complex\n",
      "    Real\n",
      "        AbstractFloat\n",
      "            BigFloat\n",
      "            Float16\n",
      "            Float32\n",
      "            Float64\n",
      "        AbstractIrrational\n",
      "            Irrational\n",
      "        Integer\n",
      "            Bool\n",
      "            Signed\n",
      "                BigInt\n",
      "                Int128\n",
      "                Int16\n",
      "                Int32\n",
      "                Int64\n",
      "                Int8\n",
      "            TensorOperations.One\n",
      "            TensorOperations.Zero\n",
      "            Unsigned\n",
      "                UInt128\n",
      "                UInt16\n",
      "                UInt32\n",
      "                UInt64\n",
      "                UInt8\n",
      "        Rational\n"
     ]
    }
   ],
   "source": [
    "subtypetree(Number)"
   ]
  },
  {
   "cell_type": "code",
   "execution_count": 41,
   "metadata": {},
   "outputs": [
    {
     "name": "stdout",
     "output_type": "stream",
     "text": [
      "UnionAll\n",
      "  var: TypeVar\n",
      "    name: Symbol T\n",
      "    lb: Core.TypeofBottom Union{}\n",
      "    ub: Any\n",
      "  body: UnionAll\n",
      "    var: TypeVar\n",
      "      name: Symbol N\n",
      "      lb: Core.TypeofBottom Union{}\n",
      "      ub: Any\n",
      "    body: Array{T,N} <: DenseArray{T,N}\n"
     ]
    }
   ],
   "source": [
    "dump(Array)"
   ]
  },
  {
   "cell_type": "markdown",
   "metadata": {},
   "source": [
    "### **Challendge!**\n",
    "Fix following tests"
   ]
  },
  {
   "cell_type": "code",
   "execution_count": 42,
   "metadata": {
    "scrolled": true
   },
   "outputs": [
    {
     "name": "stdout",
     "output_type": "stream",
     "text": [
      "\u001b[37mtypes: \u001b[39m\u001b[91m\u001b[1mTest Failed\u001b[22m\u001b[39m at \u001b[39m\u001b[1mIn[42]:12\u001b[22m\n",
      "  Expression: Array{ComplexF64, 3} <: Array{Complex, 3}\n",
      "Stacktrace:\n",
      " [1] \u001b[1mmacro expansion\u001b[22m at \u001b[1m./In[42]:12\u001b[22m [inlined]\n",
      " [2] \u001b[1mmacro expansion\u001b[22m at \u001b[1m/buildworker/worker/package_linux64/build/usr/share/julia/stdlib/v1.0/Test/src/Test.jl:1083\u001b[22m [inlined]\n",
      " [3] top-level scope at \u001b[1m./In[42]:2\u001b[22m\n",
      "\u001b[37mtypes: \u001b[39m\u001b[91m\u001b[1mTest Failed\u001b[22m\u001b[39m at \u001b[39m\u001b[1mIn[42]:17\u001b[22m\n",
      "  Expression: eltype(promote(1.0, 2im)) == Complex\n",
      "   Evaluated: Complex{Float64} == Complex\n",
      "Stacktrace:\n",
      " [1] \u001b[1mmacro expansion\u001b[22m at \u001b[1m./In[42]:17\u001b[22m [inlined]\n",
      " [2] \u001b[1mmacro expansion\u001b[22m at \u001b[1m/buildworker/worker/package_linux64/build/usr/share/julia/stdlib/v1.0/Test/src/Test.jl:1083\u001b[22m [inlined]\n",
      " [3] top-level scope at \u001b[1m./In[42]:2\u001b[22m\n",
      "\u001b[37mtypes: \u001b[39m\u001b[91m\u001b[1mTest Failed\u001b[22m\u001b[39m at \u001b[39m\u001b[1mIn[42]:19\u001b[22m\n",
      "  Expression: promote_type(Int64, Real, Float64) == Float64\n",
      "   Evaluated: Real == Float64\n",
      "Stacktrace:\n",
      " [1] \u001b[1mmacro expansion\u001b[22m at \u001b[1m./In[42]:19\u001b[22m [inlined]\n",
      " [2] \u001b[1mmacro expansion\u001b[22m at \u001b[1m/buildworker/worker/package_linux64/build/usr/share/julia/stdlib/v1.0/Test/src/Test.jl:1083\u001b[22m [inlined]\n",
      " [3] top-level scope at \u001b[1m./In[42]:2\u001b[22m\n",
      "\u001b[37mtypes: \u001b[39m\u001b[91m\u001b[1mTest Failed\u001b[22m\u001b[39m at \u001b[39m\u001b[1mIn[42]:22\u001b[22m\n",
      "  Expression: eltype([1, 2, 3.0]) == Vector{Float64}\n",
      "   Evaluated: Float64 == Array{Float64,1}\n",
      "Stacktrace:\n",
      " [1] \u001b[1mmacro expansion\u001b[22m at \u001b[1m./In[42]:22\u001b[22m [inlined]\n",
      " [2] \u001b[1mmacro expansion\u001b[22m at \u001b[1m/buildworker/worker/package_linux64/build/usr/share/julia/stdlib/v1.0/Test/src/Test.jl:1083\u001b[22m [inlined]\n",
      " [3] top-level scope at \u001b[1m./In[42]:2\u001b[22m\n",
      "\u001b[37m\u001b[1mTest Summary: | \u001b[22m\u001b[39m\u001b[32m\u001b[1mPass  \u001b[22m\u001b[39m\u001b[91m\u001b[1mFail  \u001b[22m\u001b[39m\u001b[36m\u001b[1mTotal\u001b[22m\u001b[39m\n",
      "types         | \u001b[32m  12  \u001b[39m\u001b[91m   4  \u001b[39m\u001b[36m   16\u001b[39m\n"
     ]
    },
    {
     "ename": "TestSetException",
     "evalue": "Some tests did not pass: 12 passed, 4 failed, 0 errored, 0 broken.",
     "output_type": "error",
     "traceback": [
      "Some tests did not pass: 12 passed, 4 failed, 0 errored, 0 broken.",
      "",
      "Stacktrace:",
      " [1] finish(::Test.DefaultTestSet) at /buildworker/worker/package_linux64/build/usr/share/julia/stdlib/v1.0/Test/src/Test.jl:847",
      " [2] macro expansion at ./In[42]:8 [inlined]",
      " [3] macro expansion at /buildworker/worker/package_linux64/build/usr/share/julia/stdlib/v1.0/Test/src/Test.jl:1083 [inlined]",
      " [4] top-level scope at ./In[42]:2"
     ]
    }
   ],
   "source": [
    "@testset \"types\" begin\n",
    "    @test 1.0 isa Float64\n",
    "    @test 1.0 isa Real\n",
    "    @test typeof(1.0) == Float64\n",
    "    \n",
    "    # type relation\n",
    "    @test Int64 <: Int\n",
    "    @test Int64 === Int\n",
    "    @test Int64 <: Integer\n",
    "    @test Int64 <: Union{Int64, Complex}\n",
    "    @test Array{ComplexF64, 3} <: Array{ComplexF64}\n",
    "    @test Array{ComplexF64, 3} <: Array{Complex, 3}\n",
    "    @test supertype(Integer) == Real\n",
    "    @test Signed in subtypes(Integer)\n",
    "    \n",
    "    # type promotion\n",
    "    @test eltype(promote(1.0, 2im)) == Complex\n",
    "    @test promote_type(Float32, Float64) == Float64\n",
    "    @test promote_type(Int64, Real, Float64) == Float64\n",
    "    \n",
    "    # element types\n",
    "    @test eltype([1, 2, 3.0]) == Vector{Float64}\n",
    "    @test eltype(Int[1, 2, 3.0]) == Int64\n",
    "    \n",
    "end"
   ]
  },
  {
   "cell_type": "code",
   "execution_count": 8,
   "metadata": {},
   "outputs": [
    {
     "name": "stdout",
     "output_type": "stream",
     "text": [
      "\u001b[37mfunctions: \u001b[39m\u001b[91m\u001b[1mError During Test\u001b[22m\u001b[39m at \u001b[39m\u001b[1mIn[8]:6\u001b[22m\n",
      "  Test threw exception\n",
      "  Expression: f(3) == 9\n",
      "  UndefVarError: f not defined\n",
      "  Stacktrace:\n",
      "   [1] macro expansion at ./In[8]:6 [inlined]\n",
      "   [2] macro expansion at /buildworker/worker/package_linux64/build/usr/share/julia/stdlib/v1.0/Test/src/Test.jl:1083 [inlined]\n",
      "   [3] top-level scope at ./In[8]:6\n",
      "\u001b[37mfunctions: \u001b[39m\u001b[91m\u001b[1mError During Test\u001b[22m\u001b[39m at \u001b[39m\u001b[1mIn[8]:7\u001b[22m\n",
      "  Test threw exception\n",
      "  Expression: f.([1, 2, 3, 4, 5]) == [1, 4, 9, 16, 25]\n",
      "  UndefVarError: f not defined\n",
      "  Stacktrace:\n",
      "   [1] macro expansion at ./In[8]:7 [inlined]\n",
      "   [2] macro expansion at /buildworker/worker/package_linux64/build/usr/share/julia/stdlib/v1.0/Test/src/Test.jl:1083 [inlined]\n",
      "   [3] top-level scope at ./In[8]:6\n",
      "\u001b[37mfunctions: \u001b[39m\u001b[91m\u001b[1mError During Test\u001b[22m\u001b[39m at \u001b[39m\u001b[1mIn[8]:8\u001b[22m\n",
      "  Test threw exception\n",
      "  Expression: f(\"bili\") == \"bilibili\"\n",
      "  UndefVarError: f not defined\n",
      "  Stacktrace:\n",
      "   [1] macro expansion at ./In[8]:8 [inlined]\n",
      "   [2] macro expansion at /buildworker/worker/package_linux64/build/usr/share/julia/stdlib/v1.0/Test/src/Test.jl:1083 [inlined]\n",
      "   [3] top-level scope at ./In[8]:6\n",
      "\u001b[37mfunctions: \u001b[39m\u001b[91m\u001b[1mError During Test\u001b[22m\u001b[39m at \u001b[39m\u001b[1mIn[8]:9\u001b[22m\n",
      "  Test threw exception\n",
      "  Expression: f.([\"bili\", \"dili\"]) == [\"bilibili\", \"dilidili\"]\n",
      "  UndefVarError: f not defined\n",
      "  Stacktrace:\n",
      "   [1] macro expansion at ./In[8]:9 [inlined]\n",
      "   [2] macro expansion at /buildworker/worker/package_linux64/build/usr/share/julia/stdlib/v1.0/Test/src/Test.jl:1083 [inlined]\n",
      "   [3] top-level scope at ./In[8]:6\n",
      "\u001b[37mfunctions: \u001b[39m\u001b[91m\u001b[1mError During Test\u001b[22m\u001b[39m at \u001b[39m\u001b[1mIn[8]:13\u001b[22m\n",
      "  Test threw exception\n",
      "  Expression: f(x) == [1, 2, 3, 1, 2, 3]\n",
      "  UndefVarError: f not defined\n",
      "  Stacktrace:\n",
      "   [1] macro expansion at ./In[8]:13 [inlined]\n",
      "   [2] macro expansion at /buildworker/worker/package_linux64/build/usr/share/julia/stdlib/v1.0/Test/src/Test.jl:1083 [inlined]\n",
      "   [3] top-level scope at ./In[8]:6\n",
      "\u001b[37mfunctions: \u001b[39m\u001b[91m\u001b[1mError During Test\u001b[22m\u001b[39m at \u001b[39m\u001b[1mIn[8]:14\u001b[22m\n",
      "  Test threw exception\n",
      "  Expression: f(y) == [1im, 2 + 3im, 3, -1im, 2 - 3im, 3]\n",
      "  UndefVarError: f not defined\n",
      "  Stacktrace:\n",
      "   [1] macro expansion at ./In[8]:14 [inlined]\n",
      "   [2] macro expansion at /buildworker/worker/package_linux64/build/usr/share/julia/stdlib/v1.0/Test/src/Test.jl:1083 [inlined]\n",
      "   [3] top-level scope at ./In[8]:6\n",
      "\u001b[37mfunctions: \u001b[39m\u001b[91m\u001b[1mError During Test\u001b[22m\u001b[39m at \u001b[39m\u001b[1mIn[8]:16\u001b[22m\n",
      "  Test threw exception\n",
      "  Expression: begin\n",
      "        f!(y)\n",
      "        y\n",
      "    end == [1, 2, 3, 1, 2, 3]\n",
      "  UndefVarError: f! not defined\n",
      "  Stacktrace:\n",
      "   [1] macro expansion at ./In[8]:16 [inlined]\n",
      "   [2] macro expansion at /buildworker/worker/package_linux64/build/usr/share/julia/stdlib/v1.0/Test/src/Test.jl:1083 [inlined]\n",
      "   [3] top-level scope at ./In[8]:6\n",
      "\u001b[37m\u001b[1mTest Summary: | \u001b[22m\u001b[39m\u001b[91m\u001b[1mError  \u001b[22m\u001b[39m\u001b[36m\u001b[1mTotal\u001b[22m\u001b[39m\n",
      "functions     | \u001b[91m    7  \u001b[39m\u001b[36m    7\u001b[39m\n"
     ]
    },
    {
     "ename": "TestSetException",
     "evalue": "Some tests did not pass: 0 passed, 0 failed, 7 errored, 0 broken.",
     "output_type": "error",
     "traceback": [
      "Some tests did not pass: 0 passed, 0 failed, 7 errored, 0 broken.",
      "",
      "Stacktrace:",
      " [1] finish(::Test.DefaultTestSet) at /buildworker/worker/package_linux64/build/usr/share/julia/stdlib/v1.0/Test/src/Test.jl:847",
      " [2] macro expansion at ./In[8]:11 [inlined]",
      " [3] macro expansion at /buildworker/worker/package_linux64/build/usr/share/julia/stdlib/v1.0/Test/src/Test.jl:1083 [inlined]",
      " [4] top-level scope at ./In[8]:6"
     ]
    }
   ],
   "source": [
    "#=\n",
    "    define function f here\n",
    "=#\n",
    "\n",
    "@testset \"functions\" begin\n",
    "    @test f(3) == 9\n",
    "    @test f.([1,2,3,4,5]) == [1,4,9,16,25]  # broadcast\n",
    "    @test f(\"bili\") == \"bilibili\"\n",
    "    @test f.([\"bili\", \"dili\"]) == [\"bilibili\", \"dilidili\"]\n",
    "\n",
    "    x = [1, 2, 3]\n",
    "    y = [1im, 2+3im, 3]\n",
    "    @test f(x) == [1,2,3,1,2,3]  # repeat the array\n",
    "    @test f(y) == [1im,2+3im,3,-1im,2-3im,3]  # repeat, but with conjugate\n",
    "    y = copy(x)\n",
    "    @test (f!(y); y) == [1,2,3,1,2,3]  # inplace version of f\n",
    "end"
   ]
  },
  {
   "cell_type": "markdown",
   "metadata": {},
   "source": [
    "# Type Stability\n",
    "\n",
    "[Type stability](https://docs.julialang.org/en/v1/manual/performance-tips/index.html#Avoid-changing-the-type-of-a-variable-1) is the hardest and most important part of writing high performance Julia programs.\n",
    "\n",
    "### **Challenge!**\n",
    "Fix the allocation below to increase the performance of calculating Fibonacci."
   ]
  },
  {
   "cell_type": "code",
   "execution_count": 9,
   "metadata": {},
   "outputs": [
    {
     "data": {
      "text/plain": [
       "BenchmarkTools.Trial: \n",
       "  memory estimate:  256 bytes\n",
       "  allocs estimate:  16\n",
       "  --------------\n",
       "  minimum time:     908.486 ns (0.00% GC)\n",
       "  median time:      958.135 ns (0.00% GC)\n",
       "  mean time:        1.487 μs (21.40% GC)\n",
       "  maximum time:     2.283 ms (99.95% GC)\n",
       "  --------------\n",
       "  samples:          10000\n",
       "  evals/sample:     37"
      ]
     },
     "metadata": {},
     "output_type": "display_data"
    },
    {
     "name": "stdout",
     "output_type": "stream",
     "text": [
      "Body\u001b[91m\u001b[1m::Union{Int64, UInt8}\u001b[22m\u001b[39m\n",
      "\u001b[90m\u001b[55G│╻     -\u001b[1G\u001b[39m\u001b[90m5  \u001b[39m1 ── %1  = (Base.sub_int)(n, 1)\u001b[36m::Int64\u001b[39m\n",
      "\u001b[90m\u001b[55G││╻╷╷╷  Type\u001b[1G\u001b[39m\u001b[90m   \u001b[39m│    %2  = (Base.sle_int)(1, %1)\u001b[36m::Bool\u001b[39m\n",
      "\u001b[90m\u001b[55G│││╻     unitrange_last\u001b[1G\u001b[39m\u001b[90m   \u001b[39m│          (Base.sub_int)(%1, 1)\n",
      "\u001b[90m\u001b[55G││││  \u001b[1G\u001b[39m\u001b[90m   \u001b[39m│    %4  = (Base.ifelse)(%2, %1, 0)\u001b[36m::Int64\u001b[39m\n",
      "\u001b[90m\u001b[55G││╻╷╷   isempty\u001b[1G\u001b[39m\u001b[90m   \u001b[39m│    %5  = (Base.slt_int)(%4, 1)\u001b[36m::Bool\u001b[39m\n",
      "\u001b[90m\u001b[55G││    \u001b[1G\u001b[39m\u001b[90m   \u001b[39m└───       goto #3 if not %5\n",
      "\u001b[90m\u001b[55G││    \u001b[1G\u001b[39m\u001b[90m   \u001b[39m2 ──       goto #4\n",
      "\u001b[90m\u001b[55G││    \u001b[1G\u001b[39m\u001b[90m   \u001b[39m3 ──       goto #4\n",
      "\u001b[90m\u001b[55G│     \u001b[1G\u001b[39m\u001b[90m   \u001b[39m4 ┄─ %9  = φ (#2 => true, #3 => false)\u001b[36m::Bool\u001b[39m\n",
      "\u001b[90m\u001b[55G│     \u001b[1G\u001b[39m\u001b[90m   \u001b[39m│    %10 = φ (#3 => 1)\u001b[36m::Int64\u001b[39m\n",
      "\u001b[90m\u001b[55G│     \u001b[1G\u001b[39m\u001b[90m   \u001b[39m│    %11 = (Base.not_int)(%9)\u001b[36m::Bool\u001b[39m\n",
      "\u001b[90m\u001b[55G│     \u001b[1G\u001b[39m\u001b[90m   \u001b[39m└───       goto #15 if not %11\n",
      "\u001b[90m\u001b[55G│     \u001b[1G\u001b[39m\u001b[90m   \u001b[39m5 ┄─ %13 = φ (#4 => 0, #14 => %14)\u001b[91m\u001b[1m::Union{Int64, UInt8}\u001b[22m\u001b[39m\n",
      "\u001b[90m\u001b[55G│     \u001b[1G\u001b[39m\u001b[90m   \u001b[39m│    %14 = φ (#4 => 0x01, #14 => %36)\u001b[91m\u001b[1m::Union{Int64, UInt8}\u001b[22m\u001b[39m\n",
      "\u001b[90m\u001b[55G│     \u001b[1G\u001b[39m\u001b[90m   \u001b[39m│    %15 = φ (#4 => %10, #14 => %42)\u001b[36m::Int64\u001b[39m\n",
      "\u001b[90m\u001b[55G│     \u001b[1G\u001b[39m\u001b[90m6  \u001b[39m│    %16 = (isa)(%13, UInt8)\u001b[36m::Bool\u001b[39m\n",
      "\u001b[90m\u001b[55G│     \u001b[1G\u001b[39m\u001b[90m   \u001b[39m│    %17 = (isa)(%14, Int64)\u001b[36m::Bool\u001b[39m\n",
      "\u001b[90m\u001b[55G│     \u001b[1G\u001b[39m\u001b[90m   \u001b[39m│    %18 = (and_int)(%16, %17)\u001b[36m::Bool\u001b[39m\n",
      "\u001b[90m\u001b[55G│     \u001b[1G\u001b[39m\u001b[90m   \u001b[39m└───       goto #7 if not %18\n",
      "\u001b[90m\u001b[55G│     \u001b[1G\u001b[39m\u001b[90m   \u001b[39m6 ── %20 = π (%13, \u001b[36mUInt8\u001b[39m"
     ]
    },
    {
     "data": {
      "text/plain": [
       "nothing"
      ]
     },
     "metadata": {},
     "output_type": "display_data"
    },
    {
     "name": "stdout",
     "output_type": "stream",
     "text": [
      ")\n",
      "\u001b[90m\u001b[55G│     \u001b[1G\u001b[39m\u001b[90m   \u001b[39m│    %21 = π (%14, \u001b[36mInt64\u001b[39m)\n",
      "\u001b[90m\u001b[55G││╻╷╷╷  rem\u001b[1G\u001b[39m\u001b[90m   \u001b[39m│    %22 = (Core.zext_int)(Core.Int64, %20)\u001b[36m::Int64\u001b[39m\n",
      "\u001b[90m\u001b[55G││╻     +\u001b[1G\u001b[39m\u001b[90m   \u001b[39m│    %23 = (Base.add_int)(%22, %21)\u001b[36m::Int64\u001b[39m\n",
      "\u001b[90m\u001b[55G│     \u001b[1G\u001b[39m\u001b[90m   \u001b[39m└───       goto #10\n",
      "\u001b[90m\u001b[55G│     \u001b[1G\u001b[39m\u001b[90m   \u001b[39m7 ── %25 = (isa)(%13, Int64)\u001b[36m::Bool\u001b[39m\n",
      "\u001b[90m\u001b[55G│     \u001b[1G\u001b[39m\u001b[90m   \u001b[39m│    %26 = (isa)(%14, UInt8)\u001b[36m::Bool\u001b[39m\n",
      "\u001b[90m\u001b[55G│     \u001b[1G\u001b[39m\u001b[90m   \u001b[39m│    %27 = (and_int)(%25, %26)\u001b[36m::Bool\u001b[39m\n",
      "\u001b[90m\u001b[55G│     \u001b[1G\u001b[39m\u001b[90m   \u001b[39m└───       goto #9 if not %27\n",
      "\u001b[90m\u001b[55G│     \u001b[1G\u001b[39m\u001b[90m   \u001b[39m8 ── %29 = π (%13, \u001b[36mInt64\u001b[39m)\n",
      "\u001b[90m\u001b[55G│     \u001b[1G\u001b[39m\u001b[90m   \u001b[39m│    %30 = π (%14, \u001b[36mUInt8\u001b[39m)\n",
      "\u001b[90m\u001b[55G││╻╷╷╷  rem\u001b[1G\u001b[39m\u001b[90m   \u001b[39m│    %31 = (Core.zext_int)(Core.Int64, %30)\u001b[36m::Int64\u001b[39m\n",
      "\u001b[90m\u001b[55G││╻     +\u001b[1G\u001b[39m\u001b[90m   \u001b[39m│    %32 = (Base.add_int)(%29, %31)\u001b[36m::Int64\u001b[39m\n",
      "\u001b[90m\u001b[55G│     \u001b[1G\u001b[39m\u001b[90m   \u001b[39m└───       goto #10\n",
      "\u001b[90m\u001b[55G│     \u001b[1G\u001b[39m\u001b[90m   \u001b[39m9 ── %34 = (%13 + %14)\u001b[91m\u001b[1m::Union{Int64, UInt8}\u001b[22m\u001b[39m\n",
      "\u001b[90m\u001b[55G│     \u001b[1G\u001b[39m\u001b[90m   \u001b[39m└───       goto #10\n",
      "\u001b[90m\u001b[55G│     \u001b[1G\u001b[39m\u001b[90m   \u001b[39m10 ┄ %36 = φ (#6 => %23, #8 => %32, #9 => %34)\u001b[91m\u001b[1m::Union{Int64, UInt8}\u001b[22m\u001b[39m\n",
      "\u001b[90m\u001b[55G│╻╷    iterate\u001b[1G\u001b[39m\u001b[90m8  \u001b[39m│    %37 = (%15 === %4)\u001b[36m::Bool\u001b[39m\n",
      "\u001b[90m\u001b[55G││    \u001b[1G\u001b[39m\u001b[90m   \u001b[39m└───       goto #12 if not %37\n",
      "\u001b[90m\u001b[55G││    \u001b[1G\u001b[39m\u001b[90m   \u001b[39m11 ─       goto #13\n",
      "\u001b[90m\u001b[55G││╻     +\u001b[1G\u001b[39m\u001b[90m   \u001b[39m12 ─ %40 = (Base.add_int)(%15, 1)\u001b[36m::Int64\u001b[39m\n",
      "\u001b[90m\u001b[55G│╻     iterate\u001b[1G\u001b[39m\u001b[90m   \u001b[39m└───       goto #13\n",
      "\u001b[90m\u001b[55G│     \u001b[1G\u001b[39m\u001b[90m   \u001b[39m13 ┄ %42 = φ (#12 => %40)\u001b[36m::Int64\u001b[39m\n",
      "\u001b[90m\u001b[55G│     \u001b[1G\u001b[39m\u001b[90m   \u001b[39m│    %43 = φ (#11 => true, #12 => false)\u001b[36m::Bool\u001b[39m\n",
      "\u001b[90m\u001b[55G│     \u001b[1G\u001b[39m\u001b[90m   \u001b[39m│    %44 = (Base.not_int)(%43)\u001b[36m::Bool\u001b[39m\n",
      "\u001b[90m\u001b[55G│     \u001b[1G\u001b[39m\u001b[90m   \u001b[39m└───       goto #15 if not %44\n",
      "\u001b[90m\u001b[55G│     \u001b[1G\u001b[39m\u001b[90m   \u001b[39m14 ─       goto #5\n",
      "\u001b[90m\u001b[55G│     \u001b[1G\u001b[39m\u001b[90m10 \u001b[39m15 ─ %47 = φ (#13 => %36, #4 => 0x01)\u001b[91m\u001b[1m::Union{Int64, UInt8}\u001b[22m\u001b[39m\n",
      "\u001b[90m\u001b[55G│     \u001b[1G\u001b[39m\u001b[90m   \u001b[39m└───       return %47\n"
     ]
    }
   ],
   "source": [
    "# fix Fibonacci to improve performance\n",
    "function fib(n)\n",
    "    a = 0\n",
    "    b = 0b1\n",
    "    for i = 1:n-1\n",
    "        c = a + b\n",
    "        a = b\n",
    "        b = c\n",
    "    end\n",
    "    b\n",
    "end\n",
    "display(@benchmark fib(30))\n",
    "display(@code_warntype fib(30))"
   ]
  },
  {
   "cell_type": "code",
   "execution_count": 10,
   "metadata": {},
   "outputs": [
    {
     "name": "stdout",
     "output_type": "stream",
     "text": [
      "\u001b[37mfibonacci: \u001b[39m\u001b[91m\u001b[1mTest Failed\u001b[22m\u001b[39m at \u001b[39m\u001b[1mIn[10]:3\u001b[22m\n",
      "  Expression: #= In[10]:3 =# @allocated(fib(30)) == 0\n",
      "   Evaluated: 256 == 0\n",
      "Stacktrace:\n",
      " [1] \u001b[1mmacro expansion\u001b[22m at \u001b[1m./In[10]:3\u001b[22m [inlined]\n",
      " [2] \u001b[1mmacro expansion\u001b[22m at \u001b[1m/buildworker/worker/package_linux64/build/usr/share/julia/stdlib/v1.0/Test/src/Test.jl:1083\u001b[22m [inlined]\n",
      " [3] top-level scope at \u001b[1m./In[10]:2\u001b[22m\n",
      "\u001b[37m\u001b[1mTest Summary: | \u001b[22m\u001b[39m\u001b[32m\u001b[1mPass  \u001b[22m\u001b[39m\u001b[91m\u001b[1mFail  \u001b[22m\u001b[39m\u001b[36m\u001b[1mTotal\u001b[22m\u001b[39m\n",
      "fibonacci     | \u001b[32m   1  \u001b[39m\u001b[91m   1  \u001b[39m\u001b[36m    2\u001b[39m\n"
     ]
    },
    {
     "ename": "TestSetException",
     "evalue": "Some tests did not pass: 1 passed, 1 failed, 0 errored, 0 broken.",
     "output_type": "error",
     "traceback": [
      "Some tests did not pass: 1 passed, 1 failed, 0 errored, 0 broken.",
      "",
      "Stacktrace:",
      " [1] finish(::Test.DefaultTestSet) at /buildworker/worker/package_linux64/build/usr/share/julia/stdlib/v1.0/Test/src/Test.jl:847",
      " [2] macro expansion at ./util.jl:246 [inlined]",
      " [3] macro expansion at ./In[10]:3 [inlined]",
      " [4] macro expansion at /buildworker/worker/package_linux64/build/usr/share/julia/stdlib/v1.0/Test/src/Test.jl:1083 [inlined]",
      " [5] top-level scope at ./In[10]:2"
     ]
    }
   ],
   "source": [
    "@testset \"fibonacci\" begin\n",
    "    @test fib(30) == 832040\n",
    "    @test (@allocated fib(30))  == 0\n",
    "end"
   ]
  },
  {
   "cell_type": "markdown",
   "metadata": {},
   "source": [
    "# Final Boss\n",
    "\n",
    "Give data file `data/example.txt`, with each row a tuple of $i, j, w_{ij}$.\n",
    "The problems is to find the ground state configuration of the classical Ising hamiltonian $H = \\sum\\limits_{i,j} w_{ij}\\sigma_i \\sigma_j$\n",
    "\n",
    "This is the code chanlledge of 2016 UCAS summer school.\n",
    "\n",
    "### Simmulated Annealling\n",
    "Fix the code of simulated annealing\n",
    "\n",
    "1. correctify the code\n",
    "2. improve the performance"
   ]
  },
  {
   "cell_type": "code",
   "execution_count": 75,
   "metadata": {},
   "outputs": [],
   "source": [
    "# please open `simulated_annealing.ipynb` to continue"
   ]
  },
  {
   "cell_type": "code",
   "execution_count": null,
   "metadata": {},
   "outputs": [],
   "source": []
  }
 ],
 "metadata": {
  "kernelspec": {
   "display_name": "Julia 1.0.0",
   "language": "julia",
   "name": "julia-1.0"
  },
  "language_info": {
   "file_extension": ".jl",
   "mimetype": "application/julia",
   "name": "julia",
   "version": "1.0.0"
  }
 },
 "nbformat": 4,
 "nbformat_minor": 2
}
