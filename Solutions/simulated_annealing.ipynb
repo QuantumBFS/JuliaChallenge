{
 "cells": [
  {
   "cell_type": "markdown",
   "metadata": {},
   "source": [
    "# Load data file"
   ]
  },
  {
   "cell_type": "code",
   "execution_count": 34,
   "metadata": {},
   "outputs": [
    {
     "data": {
      "text/plain": [
       "load_coupling"
      ]
     },
     "execution_count": 34,
     "metadata": {},
     "output_type": "execute_result"
    }
   ],
   "source": [
    "using DelimitedFiles, Test, BenchmarkTools, Statistics\n",
    "\n",
    "\"\"\"General Annealing Problem\"\"\"\n",
    "abstract type AnnealingProblem end\n",
    "\n",
    "\"\"\"\n",
    "    SpinAnnealingProblem{T<:Real} <: AnnealingProblem\n",
    "\n",
    "Annealing problem defined by coupling matrix of spins.\n",
    "\"\"\"\n",
    "struct SpinAnnealingProblem{T<:Real} <: AnnealingProblem  # immutable, with type parameter T (a subtype of Real).\n",
    "    num_spin::Int\n",
    "    coupling::Matrix{T}\n",
    "    function SpinAnnealingProblem(coupling::Matrix{T}) where T\n",
    "        size(coupling, 1) == size(coupling, 2) || throw(DimensionMismatch(\"input must be square matrix.\"))\n",
    "        new{T}(size(coupling, 1), coupling)\n",
    "    end\n",
    "end\n",
    "\n",
    "\"\"\"\n",
    "    load_coupling(filename::String) -> SpinAnnealingProblem\n",
    "\n",
    "Load the data file into symmtric coupling matrix.\n",
    "\"\"\"\n",
    "function load_coupling(filename::String)\n",
    "    data = readdlm(filename)\n",
    "    # is = @. Int(view(data, :, 1)) + 1  #* @. means broadcast for the following functions, is here used correctly?\n",
    "    # js = @. Int(view(data, :, 2)) + 1\n",
    "    is = Int.(view(data, :, 1)) .+ 1\n",
    "    js = Int.(view(data, :, 2)) .+ 1\n",
    "    weights = data[:,3]\n",
    "    num_spin = max(maximum(is), maximum(js))\n",
    "    J = similar(weights, num_spin, num_spin)\n",
    "    for (i, j, weight) = zip(is, js, weights)\n",
    "        J[i,j] = weight/2\n",
    "        J[j,i] = weight/2\n",
    "    end\n",
    "    SpinAnnealingProblem(J)\n",
    "end"
   ]
  },
  {
   "cell_type": "code",
   "execution_count": 2,
   "metadata": {},
   "outputs": [
    {
     "name": "stdout",
     "output_type": "stream",
     "text": [
      "\u001b[37m\u001b[1mTest Summary: | \u001b[22m\u001b[39m\u001b[32m\u001b[1mPass  \u001b[22m\u001b[39m\u001b[36m\u001b[1mTotal\u001b[22m\u001b[39m\n",
      "loading       | \u001b[32m   1  \u001b[39m\u001b[36m    1\u001b[39m\n"
     ]
    },
    {
     "data": {
      "text/plain": [
       "Test.DefaultTestSet(\"loading\", Any[], 1, false)"
      ]
     },
     "execution_count": 2,
     "metadata": {},
     "output_type": "execute_result"
    }
   ],
   "source": [
    "@testset \"loading\" begin\n",
    "    sap = load_coupling(\"data/example.txt\")\n",
    "    @test size(sap.coupling) == (300, 300)\n",
    "end"
   ]
  },
  {
   "cell_type": "code",
   "execution_count": 3,
   "metadata": {},
   "outputs": [
    {
     "data": {
      "text/plain": [
       "random_config (generic function with 1 method)"
      ]
     },
     "execution_count": 3,
     "metadata": {},
     "output_type": "execute_result"
    }
   ],
   "source": [
    "abstract type AnnealingConfig end\n",
    "\n",
    "struct SpinConfig{Ts, Tf} <: AnnealingConfig\n",
    "    config::Vector{Ts}\n",
    "    field::Vector{Tf}\n",
    "    SpinConfig(config::Vector{Ts}, field::Vector{Tf}) where {Ts, Tf} = new{Ts, Tf}(config, field)\n",
    "end\n",
    "\n",
    "\"\"\"\n",
    "    random_config(prblm::AnnealingProblem) -> SpinConfig\n",
    "\n",
    "Random spin configuration.\n",
    "\"\"\"\n",
    "function random_config end\n",
    "\n",
    "function random_config(prblm::SpinAnnealingProblem)\n",
    "    config = rand([-1,1], prblm.num_spin)\n",
    "    SpinConfig(config, prblm.coupling*config)\n",
    "end"
   ]
  },
  {
   "cell_type": "code",
   "execution_count": 4,
   "metadata": {},
   "outputs": [
    {
     "name": "stdout",
     "output_type": "stream",
     "text": [
      "\u001b[37m\u001b[1mTest Summary: | \u001b[22m\u001b[39m\u001b[32m\u001b[1mPass  \u001b[22m\u001b[39m\u001b[36m\u001b[1mTotal\u001b[22m\u001b[39m\n",
      "random config | \u001b[32m   2  \u001b[39m\u001b[36m    2\u001b[39m\n"
     ]
    },
    {
     "data": {
      "text/plain": [
       "Test.DefaultTestSet(\"random config\", Any[], 2, false)"
      ]
     },
     "execution_count": 4,
     "metadata": {},
     "output_type": "execute_result"
    }
   ],
   "source": [
    "@testset \"random config\" begin\n",
    "    sap = load_coupling(\"data/example.txt\")\n",
    "    initial_config = random_config(sap)\n",
    "    @test initial_config.config |> length == 300\n",
    "    @test eltype(initial_config.config) == Int\n",
    "end"
   ]
  },
  {
   "cell_type": "markdown",
   "metadata": {},
   "source": [
    "# Main Program for Annealing"
   ]
  },
  {
   "cell_type": "code",
   "execution_count": 5,
   "metadata": {},
   "outputs": [
    {
     "data": {
      "text/plain": [
       "anneal"
      ]
     },
     "execution_count": 5,
     "metadata": {},
     "output_type": "execute_result"
    }
   ],
   "source": [
    "\"\"\"\n",
    "    anneal_singlerun!(config::AnnealingConfig, prblm, tempscales::Vector{Float64}, num_update_each_temp::Int)\n",
    "\n",
    "Perform Simulated Annealing using Metropolis updates for the single run.\n",
    "\n",
    "    * configuration that can be updated.\n",
    "    * prblm: problem with `get_cost`, `flip!` and `random_config` interfaces.\n",
    "    * tempscales: temperature scales, which should be a decreasing array.\n",
    "    * num_update_each_temp: the number of update in each temprature scale.\n",
    "\n",
    "Returns (minimum cost, optimal configuration).\n",
    "\"\"\"\n",
    "function anneal_singlerun!(config, prblm, tempscales::Vector{Float64}, num_update_each_temp::Int)\n",
    "    cost = get_cost(config, prblm)\n",
    "    \n",
    "    opt_config = config\n",
    "    opt_cost = cost\n",
    "    for beta = 1 ./ tempscales\n",
    "        @simd for m = 1:num_update_each_temp\n",
    "            proposal, ΔE = propose(config, prblm)\n",
    "            if exp(-beta*ΔE) > rand()  #accept\n",
    "                flip!(config, proposal, prblm)\n",
    "                cost += ΔE\n",
    "                if cost < opt_cost\n",
    "                    opt_cost = cost\n",
    "                    opt_config = config\n",
    "                end\n",
    "            end\n",
    "        end\n",
    "    end\n",
    "    opt_cost, opt_config\n",
    "end\n",
    " \n",
    "\"\"\"\n",
    "    anneal(nrun::Int, prblm, tempscales::Vector{Float64}, num_update_each_temp::Int)\n",
    "\n",
    "Perform Simulated Annealing with multiple runs.\n",
    "\"\"\"\n",
    "function anneal(nrun::Int, prblm, tempscales::Vector{Float64}, num_update_each_temp::Int)\n",
    "    local opt_cost, opt_config\n",
    "    for r = 1:nrun\n",
    "        initial_config = random_config(prblm)\n",
    "        cost, config = anneal_singlerun!(initial_config, prblm, tempscales, num_update_each_temp)\n",
    "        if r == 1 || cost < opt_cost\n",
    "            opt_cost = cost\n",
    "            opt_config = config\n",
    "        end\n",
    "        println(\"$r-th run, cost = $cost\")\n",
    "    end\n",
    "    opt_cost, opt_config\n",
    "end"
   ]
  },
  {
   "cell_type": "markdown",
   "metadata": {},
   "source": [
    "# Annealing Problem Interfaces"
   ]
  },
  {
   "cell_type": "code",
   "execution_count": 6,
   "metadata": {},
   "outputs": [
    {
     "data": {
      "text/plain": [
       "flip!"
      ]
     },
     "execution_count": 6,
     "metadata": {},
     "output_type": "execute_result"
    }
   ],
   "source": [
    "\"\"\"\n",
    "    get_cost(config::AnnealingConfig, ap::AnnealingProblem) -> Real\n",
    "\n",
    "Get the cost of specific configuration.\n",
    "\"\"\"  # this kind of docstring is confusing\n",
    "get_cost(config::SpinConfig, sap::SpinAnnealingProblem) = sum(config.config'*sap.coupling*config.config)\n",
    "\n",
    "\"\"\"\n",
    "    propose(config::AnnealingConfig, ap::AnnealingProblem) -> (Proposal, Real)\n",
    "\n",
    "Propose a change, as well as the energy change.\n",
    "\"\"\"\n",
    "@inline function propose(config::SpinConfig, ::SpinAnnealingProblem)  # ommit the name of argument, since not used.\n",
    "    ispin = rand(1:length(config.config))\n",
    "    @inbounds ΔE = -config.field[ispin] * config.config[ispin] * 4 # 2 for spin change, 2 for mutual energy.\n",
    "    ispin, ΔE\n",
    "end\n",
    "\n",
    "\"\"\"\n",
    "    flip!(config::AnnealingConfig, ispin::Proposal, ap::AnnealingProblem) -> SpinConfig\n",
    "\n",
    "Apply the change to the configuration.\n",
    "\"\"\"\n",
    "@inline function flip!(config::SpinConfig, ispin::Int, sap::SpinAnnealingProblem)\n",
    "    @inbounds config.config[ispin] = -config.config[ispin]\n",
    "    # update field\n",
    "    @simd for i=1:sap.num_spin\n",
    "        @inbounds config.field[i] += 2 * config.config[ispin] * sap.coupling[i,ispin]\n",
    "    end\n",
    "    config\n",
    "    #* config.field .+= 2 .* config.config[ispin] .* sap.coupling[:,ispin]\n",
    "end"
   ]
  },
  {
   "cell_type": "markdown",
   "metadata": {},
   "source": [
    "### **Challege!**\n",
    "Make your program correct and type is stable!"
   ]
  },
  {
   "cell_type": "code",
   "execution_count": 13,
   "metadata": {},
   "outputs": [
    {
     "name": "stderr",
     "output_type": "stream",
     "text": [
      "WARNING: redefining constant tempscales\n",
      "WARNING: redefining constant sap\n"
     ]
    },
    {
     "data": {
      "text/plain": [
       "SpinAnnealingProblem{Float64}(300, [0.0 0.5 … -0.5 -0.5; 0.5 0.0 … 0.5 -0.5; … ; -0.5 0.5 … 0.0 0.5; -0.5 -0.5 … 0.5 0.0])"
      ]
     },
     "execution_count": 13,
     "metadata": {},
     "output_type": "execute_result"
    }
   ],
   "source": [
    "using Random\n",
    "Random.seed!(2)\n",
    "const tempscales = 10 .- (1:64 .- 1) .* 0.15 |> collect\n",
    "const sap = load_coupling(\"data/example.txt\")"
   ]
  },
  {
   "cell_type": "code",
   "execution_count": 43,
   "metadata": {},
   "outputs": [
    {
     "name": "stdout",
     "output_type": "stream",
     "text": [
      "\u001b[37m\u001b[1mTest Summary: | \u001b[22m\u001b[39m\u001b[32m\u001b[1mPass  \u001b[22m\u001b[39m\u001b[36m\u001b[1mTotal\u001b[22m\u001b[39m\n",
      "anneal        | \u001b[32m   3  \u001b[39m\u001b[36m    3\u001b[39m\n"
     ]
    },
    {
     "data": {
      "text/plain": [
       "Test.DefaultTestSet(\"anneal\", Any[], 3, false)"
      ]
     },
     "execution_count": 43,
     "metadata": {},
     "output_type": "execute_result"
    }
   ],
   "source": [
    "@testset \"anneal\" begin\n",
    "    opt_cost, opt_config = anneal(30, sap, tempscales, 4000)\n",
    "    @test anneal(30, sap, tempscales, 4000)[1] == -3858\n",
    "    anneal(30, sap, tempscales, 4000)\n",
    "    res = median(@benchmark anneal(30, $sap, $tempscales, 4000))\n",
    "    @test res.time/1e9 < 1\n",
    "    @test res.allocs < 500\n",
    "end"
   ]
  },
  {
   "cell_type": "code",
   "execution_count": 36,
   "metadata": {},
   "outputs": [
    {
     "data": {
      "text/plain": [
       "BenchmarkTools.TrialEstimate: \n",
       "  time:             678.755 ms\n",
       "  gctime:           0.000 ns (0.00%)\n",
       "  memory:           398.00 KiB\n",
       "  allocs:           271"
      ]
     },
     "execution_count": 36,
     "metadata": {},
     "output_type": "execute_result"
    }
   ],
   "source": [
    "@benchmark anneal(30, $sap, $tempscales, 4000)"
   ]
  },
  {
   "cell_type": "markdown",
   "metadata": {},
   "source": [
    "# Tips for optimization: Find the bottleneck of your program"
   ]
  },
  {
   "cell_type": "code",
   "execution_count": 36,
   "metadata": {},
   "outputs": [
    {
     "name": "stdout",
     "output_type": "stream",
     "text": [
      "2193 ./task.jl:259; (::getfield(IJulia, Symbol(\"##12#1...\n",
      " 2193 ...k5o7j/src/eventloop.jl:8; eventloop(::ZMQ.Socket)\n",
      "  2193 ./essentials.jl:685; invokelatest\n",
      "   2193 ./essentials.jl:686; #invokelatest#1\n",
      "    2193 ...c/execute_request.jl:165; execute_request(::ZMQ.Socket, :...\n",
      "     2193 .../SoftGlobalScope.jl:212; softscope_include_string(::Modu...\n",
      "      2193 ./boot.jl:319; eval\n",
      "       2193 ./In[36]:3; top-level scope\n",
      "        2193 ...file/src/Profile.jl:25; macro expansion\n",
      "         30   ./In[23]:42; anneal(::Int64, ::SpinAnneali...\n",
      "          30 ./In[21]:18; random_config(::SpinAnnealingP...\n",
      "           30 ...ebra/src/matmul.jl:64; *\n",
      "            30 ...bra/src/matmul.jl:357; gemv!(::Array{Float64,1}, ::...\n",
      "             30 ...gebra/src/blas.jl:575; gemv!(::Char, ::Float64, ::...\n",
      "         2163 ./In[23]:43; anneal(::Int64, ::SpinAnneali...\n",
      "          13   ./In[23]:14; anneal_singlerun!(::SpinConf...\n",
      "           13 ./In[24]:6; get_cost(::SpinConfig{Int64,Fl...\n",
      "            13 ./operators.jl:502; *\n",
      "             13 ...bra/src/matmul.jl:121; *\n",
      "              13 ...bra/src/matmul.jl:99; *\n",
      "               13 ...ra/src/matmul.jl:109; mul!\n",
      "                13 ...ra/src/matmul.jl:89; mul!\n",
      "                 13 ...a/src/matmul.jl:357; gemv!(::Array{Float64,1},...\n",
      "                  13 ...bra/src/blas.jl:575; gemv!(::Char, ::Float64,...\n",
      "          2074 ./In[23]:19; anneal_singlerun!(::SpinConf...\n",
      "           1    ./simdloop.jl:65; macro expansion\n",
      "           2073 ./simdloop.jl:73; macro expansion\n",
      "            518  ./In[23]:20; macro expansion\n",
      "             323 ./In[24]:14; propose\n",
      "              323 ...om/src/Random.jl:224; rand\n",
      "               323 ...om/src/Random.jl:221; rand\n",
      "                54  ./gcutils.jl:87; rand(::Random.MersenneTwi...\n",
      "                 54 ...dom/src/DSFMT.jl:86; dsfmt_fill_array_close1_o...\n",
      "                38  ...m/src/Random.jl:131; Type\n",
      "                 38 ...dom/src/RNGs.jl:551; Type\n",
      "                  38 ...c/generation.jl:192; Type\n",
      "                   1  ./int.jl:52; Type\n",
      "                   5  ...c/generation.jl:197; Type\n",
      "                    5 ./int.jl:52; -\n",
      "                   1  ...c/generation.jl:198; Type\n",
      "                    1 ./int.jl:52; -\n",
      "                   25 ...c/generation.jl:199; Type\n",
      "                    14 ./int.jl:52; -\n",
      "                    11 ./int.jl:443; <<\n",
      "                   6  ...c/generation.jl:200; Type\n",
      "                    6 ...c/generation.jl:186; Type\n",
      "                14  ...m/src/Random.jl:193; rand(::Random.MersenneTwi...\n",
      "                6   ...c/generation.jl:0; rand(::Random.MersenneTwi...\n",
      "                50  ...c/generation.jl:211; rand(::Random.MersenneTwi...\n",
      "                 24 ./sysimg.jl:18; getproperty\n",
      "                130 ...c/generation.jl:212; rand(::Random.MersenneTwi...\n",
      "                 130 ...m/src/Random.jl:192; rand\n",
      "                  130 ...m/src/Random.jl:202; rand\n",
      "                   2   ./int.jl:297; &\n",
      "                   128 .../src/Random.jl:221; rand\n",
      "                    33 ...om/src/RNGs.jl:314; rand\n",
      "                     33 ...om/src/RNGs.jl:189; reserve_1\n",
      "                      33 ...m/src/RNGs.jl:179; mt_empty\n",
      "                       33 ./sysimg.jl:18; ==\n",
      "                    95 ...om/src/RNGs.jl:315; rand\n",
      "                     95 ...om/src/RNGs.jl:310; rand_inbounds\n",
      "                      95 ...m/src/RNGs.jl:306; rand_inbounds\n",
      "                       34 ./array.jl:731; mt_pop!\n",
      "                       61 ...m/src/RNGs.jl:182; mt_pop!\n",
      "                        55 ./sysimg.jl:18; getproperty\n",
      "                        6  ./sysimg.jl:19; setproperty!\n",
      "                15  ...c/generation.jl:214; rand(::Random.MersenneTwi...\n",
      "                 14 ./int.jl:53; +\n",
      "             100 ./In[24]:15; propose\n",
      "              26 ./array.jl:731; getindex\n",
      "              74 ./operators.jl:502; *\n",
      "               74 ./float.jl:399; *\n",
      "             79  ./float.jl:60; propose\n",
      "             2   ./int.jl:53; +\n",
      "             14  ./sysimg.jl:18; propose\n",
      "            1006 ./In[23]:21; macro expansion\n",
      "             65  ./float.jl:399; *\n",
      "             15  ./operators.jl:286; >\n",
      "              15 ./float.jl:452; <\n",
      "             22  ./special/exp.jl:0; exp(::Float64)\n",
      "             13  ./special/exp.jl:75; exp(::Float64)\n",
      "              11 ./float.jl:845; reinterpret\n",
      "               11 ./essentials.jl:370; reinterpret\n",
      "              2  ./int.jl:297; &\n",
      "             13  ./special/exp.jl:76; exp(::Float64)\n",
      "              13 ./floatfuncs.jl:15; signbit\n",
      "               13 ./int.jl:93; signbit\n",
      "                13 ./int.jl:49; <\n",
      "             2   ./special/exp.jl:79; exp(::Float64)\n",
      "             16  ./special/exp.jl:81; exp(::Float64)\n",
      "             13  ./special/exp.jl:91; exp(::Float64)\n",
      "             7   ./special/exp.jl:97; exp(::Float64)\n",
      "             6   ./special/exp.jl:98; exp(::Float64)\n",
      "             61  ./special/exp.jl:108; exp(::Float64)\n",
      "              11 ./float.jl:399; *\n",
      "              50 ./floatfuncs.jl:127; round\n",
      "               50 ./float.jl:368; round\n",
      "             63  ./special/exp.jl:109; exp(::Float64)\n",
      "              63 ./float.jl:302; unsafe_trunc\n",
      "             12  ./special/exp.jl:111; exp(::Float64)\n",
      "              12 ./float.jl:399; *\n",
      "             47  ./special/exp.jl:114; exp(::Float64)\n",
      "              47 ./float.jl:397; -\n",
      "             33  ./special/exp.jl:115; exp(::Float64)\n",
      "              33 ./float.jl:399; *\n",
      "             262 ./special/exp.jl:116; exp(::Float64)\n",
      "              45  ./float.jl:399; *\n",
      "              36  ./float.jl:397; -\n",
      "              181 ./special/exp.jl:52; exp_kernel\n",
      "               181 ./float.jl:404; muladd\n",
      "             292 ./special/exp.jl:117; exp(::Float64)\n",
      "              24  ./float.jl:399; *\n",
      "              115 ./float.jl:397; -\n",
      "              153 ./float.jl:401; /\n",
      "             9   ./special/exp.jl:122; exp(::Float64)\n",
      "              9 ./essentials.jl:370; reinterpret\n",
      "             19  ./special/exp.jl:123; exp(::Float64)\n",
      "              19 ./float.jl:399; *\n",
      "             1   ./special/exp.jl:126; exp(::Float64)\n",
      "              1 ./int.jl:450; <<\n",
      "               1 ./int.jl:443; <<\n",
      "             5   ./special/exp.jl:127; exp(::Float64)\n",
      "              5 ./operators.jl:502; *\n",
      "               5 ./float.jl:399; *\n",
      "             4   ./special/exp.jl:131; exp(::Float64)\n",
      "             3   ./special/exp.jl:135; exp(::Float64)\n",
      "              1 ./float.jl:399; *\n",
      "              2 ./special/exp.jl:52; exp_kernel\n",
      "               2 ./float.jl:404; muladd\n",
      "             1   ./special/exp.jl:136; exp(::Float64)\n",
      "              1 ./float.jl:399; *\n",
      "             19  ...dom/src/Random.jl:222; rand\n",
      "              19 ...dom/src/Random.jl:222; rand\n",
      "               19 ...src/generation.jl:35; rand\n",
      "                19 ...om/src/Random.jl:221; rand\n",
      "                 19 ...dom/src/RNGs.jl:331; rand\n",
      "                  19 ...dom/src/RNGs.jl:306; rand_inbounds\n",
      "                   12 ./array.jl:731; mt_pop!\n",
      "                   7  ...dom/src/RNGs.jl:182; mt_pop!\n",
      "                    7 ./sysimg.jl:18; getproperty\n",
      "            534  ./In[23]:22; macro expansion\n",
      "             4   ./In[24]:25; flip!\n",
      "              1 ./array.jl:769; setindex!\n",
      "              3 ./sysimg.jl:18; getproperty\n",
      "             528 ./In[24]:28; flip!\n",
      "              4   ./checked.jl:0; macro expansion\n",
      "              1   ./int.jl:0; macro expansion\n",
      "              1   ./simdloop.jl:65; macro expansion\n",
      "               1 ./range.jl:5; Colon\n",
      "                1 ./range.jl:255; Type\n",
      "                 1 ./range.jl:260; unitrange_last\n",
      "                  1 ./operators.jl:333; >=\n",
      "                   1 ./int.jl:428; <=\n",
      "              2   ./simdloop.jl:67; macro expansion\n",
      "               2 ./simdloop.jl:47; simd_inner_length\n",
      "                1 ./checked.jl:136; length\n",
      "                1 ./range.jl:521; length\n",
      "                 1 ./checked.jl:170; checked_add\n",
      "              7   ./simdloop.jl:71; macro expansion\n",
      "              513 ./simdloop.jl:73; macro expansion\n",
      "               390 ./In[24]:29; macro expansion\n",
      "                9   ./array.jl:732; getindex\n",
      "                29  ./array.jl:769; setindex!\n",
      "                35  ./int.jl:53; +\n",
      "                2   ./int.jl:53; getindex\n",
      "                315 ./operators.jl:502; *\n",
      "                 101 ./float.jl:399; *\n",
      "                 214 ./promotion.jl:314; *\n",
      "                  214 ./promotion.jl:284; promote\n",
      "                   214 ./promotion.jl:261; _promote\n",
      "                    214 ./number.jl:7; convert\n",
      "                     214 ./float.jl:60; Type\n",
      "               123 ./float.jl:395; macro expansion\n",
      "             2   ./array.jl:731; flip!\n",
      "            3    ./In[23]:23; macro expansion\n",
      "             3 ./float.jl:395; +\n",
      "            1    ./float.jl:452; macro expansion\n",
      "            11   ./simdloop.jl:0; macro expansion\n",
      "          2    ./In[23]:24; anneal_singlerun!(::SpinConf...\n",
      "          30   ./gcutils.jl:87; anneal_singlerun!(::SpinConf...\n",
      "           30 ...andom/src/DSFMT.jl:86; dsfmt_fill_array_close1_open2...\n",
      "          11   ...src/generation.jl:211; rand(::Random.MersenneTwiste...\n",
      "          23   ...src/generation.jl:214; rand(::Random.MersenneTwiste...\n",
      "          10   .../lib/julia/sys.so:?; rand(::Random.MersenneTwiste...\n"
     ]
    }
   ],
   "source": [
    "using Profile\n",
    "Profile.clear()\n",
    "@profile anneal(100, sap, tempscales, 4000)\n",
    "Profile.print()"
   ]
  },
  {
   "cell_type": "markdown",
   "metadata": {},
   "source": [
    "# Calling a Fortran program\n",
    "* https://docs.julialang.org/en/v1/manual/calling-c-and-fortran-code/index.html\n",
    "* https://craftofcoding.wordpress.com/2017/02/26/calling-fortran-from-julia-i/\n",
    "* https://craftofcoding.wordpress.com/2017/03/01/calling-fortran-from-julia-ii/"
   ]
  },
  {
   "cell_type": "code",
   "execution_count": 68,
   "metadata": {},
   "outputs": [
    {
     "name": "stdout",
     "output_type": "stream",
     "text": [
      "/home/leo/jcode/JuliaChallenge/programs\n"
     ]
    }
   ],
   "source": [
    ";cd programs"
   ]
  },
  {
   "cell_type": "code",
   "execution_count": 69,
   "metadata": {},
   "outputs": [],
   "source": [
    ";gfortran -shared -fPIC problem.f90 fsa.f90 -o fsa.so"
   ]
  },
  {
   "cell_type": "code",
   "execution_count": 70,
   "metadata": {},
   "outputs": [
    {
     "name": "stdout",
     "output_type": "stream",
     "text": [
      "00000000000019e3 T anneal_\n",
      "0000000000002017 T anneal_singlerun_\n",
      "0000000000203128 B __bss_start\n",
      "0000000000203140 b completed.7696\n",
      "                 w __cxa_finalize@@GLIBC_2.2.5\n",
      "00000000000011b0 t deregister_tm_clones\n",
      "0000000000001240 t __do_global_dtors_aux\n",
      "0000000000202de8 t __do_global_dtors_aux_fini_array_entry\n",
      "0000000000203120 d __dso_handle\n",
      "0000000000202df0 d _DYNAMIC\n",
      "0000000000203128 D _edata\n",
      "000000000025afc0 B _end\n",
      "                 U expf@@GLIBC_2.27\n",
      "00000000000022a4 T _fini\n",
      "0000000000001280 t frame_dummy\n",
      "0000000000202de0 t __frame_dummy_init_array_entry\n",
      "0000000000002758 r __FRAME_END__\n",
      "                 U free@@GLIBC_2.2.5\n",
      "                 U _gfortran_arandom_r4@@GFORTRAN_7\n",
      "                 U _gfortran_matmul_r4@@GFORTRAN_7\n",
      "                 U _gfortran_os_error@@GFORTRAN_7\n",
      "                 U _gfortran_random_r4@@GFORTRAN_7\n",
      "                 U _gfortran_random_seed_i4@@GFORTRAN_7\n",
      "                 U _gfortran_runtime_error_at@@GFORTRAN_7\n",
      "                 U _gfortran_runtime_error@@GFORTRAN_7\n",
      "                 U _gfortran_st_close@@GFORTRAN_7\n",
      "                 U _gfortran_st_open@@GFORTRAN_7\n",
      "                 U _gfortran_st_read_done@@GFORTRAN_7\n",
      "                 U _gfortran_st_read@@GFORTRAN_7\n",
      "                 U _gfortran_st_write_done@@GFORTRAN_7\n",
      "                 U _gfortran_st_write@@GFORTRAN_7\n",
      "                 U _gfortran_system_clock_4@@GFORTRAN_7\n",
      "                 U _gfortran_transfer_character_write@@GFORTRAN_7\n",
      "                 U _gfortran_transfer_integer@@GFORTRAN_7\n",
      "                 U _gfortran_transfer_integer_write@@GFORTRAN_7\n",
      "                 U _gfortran_transfer_real@@GFORTRAN_7\n",
      "                 U _gfortran_transfer_real_write@@GFORTRAN_7\n",
      "0000000000203000 d _GLOBAL_OFFSET_TABLE_\n",
      "                 w __gmon_start__\n",
      "0000000000002540 r __GNU_EH_FRAME_HDR\n",
      "0000000000000f60 T _init\n",
      "0000000000001b65 T init_random_seed_\n",
      "                 w _ITM_deregisterTMCloneTable\n",
      "                 w _ITM_registerTMCloneTable\n",
      "                 U malloc@@GLIBC_2.2.5\n",
      "                 U memset@@GLIBC_2.2.5\n",
      "0000000000001498 T __problem_MOD_accept\n",
      "00000000000015e9 T __problem_MOD_get_cost\n",
      "000000000000128a T __problem_MOD_get_random_config\n",
      "0000000000203160 B __problem_MOD_i\n",
      "00000000000019cb T __problem_MOD_init_problem\n",
      "0000000000203180 B __problem_MOD_jmat\n",
      "00000000000017b0 T __problem_MOD_loadexample\n",
      "0000000000001547 T __problem_MOD_propose\n",
      "00000000000022c0 R __problem_MOD_tempscales\n",
      "                 U realloc@@GLIBC_2.2.5\n",
      "00000000000011f0 t register_tm_clones\n",
      "0000000000002286 T test_\n",
      "0000000000203128 d __TMC_END__\n"
     ]
    }
   ],
   "source": [
    ";nm fsa.so"
   ]
  },
  {
   "cell_type": "code",
   "execution_count": null,
   "metadata": {},
   "outputs": [],
   "source": [
    "@benchmark ccall((:test_, \"fsa.so\"), Int32, ())"
   ]
  },
  {
   "cell_type": "markdown",
   "metadata": {},
   "source": [
    "# What if I can not live without Python?\n",
    "We can use [PyCall](https://github.com/JuliaPy/PyCall.jl) to call python programs!\n",
    "\n",
    "### **Challenge!**\n",
    "1. use Python package [viznet](https://github.com/GiggleLiu/viznet) and [matplotlib](https://matplotlib.org/) for visualization\n",
    "2. benchmark pure python version of simulated annealing, show the time"
   ]
  },
  {
   "cell_type": "code",
   "execution_count": 1,
   "metadata": {},
   "outputs": [],
   "source": [
    "# pip install viznet\n",
    "using PyCall\n",
    "\n",
    "@pyimport viznet\n",
    "@pyimport matplotlib.pyplot as plt\n",
    "brush = viznet.NodeBrush(\"nn.input\")\n",
    "brush >> (0, 0)\n",
    "plt.axis([-1, 1, -1, 1])\n",
    "plt.axis(\"equal\")\n",
    "plt.axis(\"off\")\n",
    "plt.show()"
   ]
  },
  {
   "cell_type": "code",
   "execution_count": 3,
   "metadata": {},
   "outputs": [
    {
     "ename": "LoadError",
     "evalue": "UndefVarError: @benchmark not defined",
     "output_type": "error",
     "traceback": [
      "UndefVarError: @benchmark not defined",
      ""
     ]
    }
   ],
   "source": [
    "# now please import `test_codec` function in file `testsa.py`\n",
    "pushfirst!(PyVector(pyimport(\"sys\")[\"path\"]), \"programs\")  # add current folder into path\n",
    "@pyimport testsa\n",
    "@benchmark testsa.test_codec()"
   ]
  },
  {
   "cell_type": "code",
   "execution_count": null,
   "metadata": {},
   "outputs": [],
   "source": []
  }
 ],
 "metadata": {
  "kernelspec": {
   "display_name": "Julia 1.0.0",
   "language": "julia",
   "name": "julia-1.0"
  },
  "language_info": {
   "file_extension": ".jl",
   "mimetype": "application/julia",
   "name": "julia",
   "version": "1.0.0"
  }
 },
 "nbformat": 4,
 "nbformat_minor": 2
}
