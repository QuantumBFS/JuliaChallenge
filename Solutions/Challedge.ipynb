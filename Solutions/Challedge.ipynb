{
 "cells": [
  {
   "cell_type": "markdown",
   "metadata": {},
   "source": [
    "# Section I: Basic Array Operations\n",
    "\n",
    "* To enter REPL, type `julia` in your terminal (PATH variable in shell should be set correctly).\n",
    "* To get help in REPL, type `?` to enter `API` mode.\n",
    "* To install a package, type `]` to enter `Pkg` mode. Type `?<Enter>` if you want some help in `Pkg` mode.\n",
    "* To run shell command in REPL, type `;` to enter shell mode.\n",
    "* To input `≈`, type `\\approx<TAB>`, see full list of unicode input of julia [here](https://docs.julialang.org/en/v1/manual/unicode-input/).\n",
    "* `@test` means stop program and throw and exception whenever a clause returns `false`. \"function\" start with `@` character is called a [macro](https://docs.julialang.org/en/v1/manual/metaprogramming/)."
   ]
  },
  {
   "cell_type": "code",
   "execution_count": 37,
   "metadata": {},
   "outputs": [
    {
     "data": {
      "text/plain": [
       "BenchmarkTools.Trial: \n",
       "  memory estimate:  144 bytes\n",
       "  allocs estimate:  1\n",
       "  --------------\n",
       "  minimum time:     61.977 ns (0.00% GC)\n",
       "  median time:      63.230 ns (0.00% GC)\n",
       "  mean time:        92.478 ns (18.80% GC)\n",
       "  maximum time:     64.490 μs (99.82% GC)\n",
       "  --------------\n",
       "  samples:          10000\n",
       "  evals/sample:     981"
      ]
     },
     "execution_count": 37,
     "metadata": {},
     "output_type": "execute_result"
    }
   ],
   "source": [
    "# Julia Matrix Operation is fast. To know how fast it is, you need a benchmark package. Type `]` and `add BenchmarkTools<Enter>` in your REPL.\n",
    "using BenchmarkTools, Test\n",
    "\n",
    "cnot = [1 0 0 0; 0 1 0 0; 0 0 0 1; 0 0 1 0]  # a matrix\n",
    "b = [1, 1im, true, 0.4e2] # a vector\n",
    "c = [1, 1im, 0.4e2, true] # a vector\n",
    "\n",
    "# run tests\n",
    "@test cnot*b ≈ c\n",
    "@test_throws DimensionMismatch cnot*randn(3)  # expected to raise specific error\n",
    "\n",
    "# run a benchmark\n",
    "res1 = @benchmark $cnot*$b  # `$` sign means evaluation first, used in `@benchmark` to avoid taking time to evaluate cnot input account."
   ]
  },
  {
   "cell_type": "markdown",
   "metadata": {},
   "source": [
    "# Can it be faster? Yes if the matrix is small and static!\n",
    "\n",
    "For static array, we can avoid all allocations.\n",
    "\n",
    "### **Used in**\n",
    "* Quantum Circuit Simulation\n",
    "\n",
    "### **Challenge!**\n",
    "Read the document of package `StaticArrays`\n",
    "https://github.com/JuliaArrays/StaticArrays.jl\n",
    "and show it is really fast!"
   ]
  },
  {
   "cell_type": "code",
   "execution_count": 35,
   "metadata": {},
   "outputs": [
    {
     "name": "stdout",
     "output_type": "stream",
     "text": [
      "\u001b[37m\u001b[1mTest Summary: | \u001b[22m\u001b[39m\u001b[32m\u001b[1mPass  \u001b[22m\u001b[39m\u001b[36m\u001b[1mTotal\u001b[22m\u001b[39m\n",
      "static arrays | \u001b[32m   2  \u001b[39m\u001b[36m    2\u001b[39m\n"
     ]
    },
    {
     "data": {
      "text/plain": [
       "Test.DefaultTestSet(\"static arrays\", Any[], 2, false)"
      ]
     },
     "execution_count": 35,
     "metadata": {},
     "output_type": "execute_result"
    }
   ],
   "source": [
    "# install `StaticArrays`\n",
    "# sa = <some static matrix> \n",
    "# sb = <some static vector> \n",
    "\n",
    "using StaticArrays: SMatrix, SVector\n",
    "scnot = SMatrix{4, 4}(cnot)\n",
    "sb = SVector{4}(b)\n",
    "\n",
    "\n",
    "@testset \"static arrays\" begin\n",
    "    @test scnot*sb ≈ c\n",
    "    using Statistics: median\n",
    "    res2 = @benchmark $scnot*$sb\n",
    "    @test median(res2).time < median(res1).time / 5  # at least 5 times faster\n",
    "end"
   ]
  },
  {
   "cell_type": "markdown",
   "metadata": {},
   "source": [
    "# Linear Algebra\n",
    "\n",
    "See [docs](https://docs.julialang.org/en/v1/stdlib/LinearAlgebra/).\n",
    "\n",
    "### **Used in**\n",
    "* Quantum Monte Carlo\n",
    "* Non-Interacting fermionic systems (include mean field)\n",
    "\n",
    "### **Challenge!**\n",
    "Try to figure out how to use get eigenvalues, singular values and qr and pass the test"
   ]
  },
  {
   "cell_type": "code",
   "execution_count": 17,
   "metadata": {},
   "outputs": [
    {
     "name": "stdout",
     "output_type": "stream",
     "text": [
      "\u001b[37m\u001b[1mTest Summary: | \u001b[22m\u001b[39m\u001b[32m\u001b[1mPass  \u001b[22m\u001b[39m\u001b[36m\u001b[1mTotal\u001b[22m\u001b[39m\n",
      "linalg        | \u001b[32m   5  \u001b[39m\u001b[36m    5\u001b[39m\n"
     ]
    },
    {
     "data": {
      "text/plain": [
       "Test.DefaultTestSet(\"linalg\", Any[], 5, false)"
      ]
     },
     "execution_count": 17,
     "metadata": {},
     "output_type": "execute_result"
    }
   ],
   "source": [
    "using LinearAlgebra: eigen, svd, qr, I, det, tr\n",
    "# hint, here you probabily want to type `?` and `eigen<Enter>` to get help in an REPL.\n",
    "\n",
    "# sv_cnot = <get the singular value of matrix cnot>\n",
    "# ev_cnot = <get the eigenvalue of matrix cnot>\n",
    "# q_cnot = <get the Q matrix from QR decomposition of cnot>\n",
    "# det_cnot = <get the determinant of matrix cnot>\n",
    "# tr_cnot = <get the trace of matrix cnot>\n",
    "sv_cnot = svd(cnot).S\n",
    "ev_cnot = eigen(cnot).values\n",
    "q_cnot = qr(cnot).Q\n",
    "det_cnot = det(cnot)\n",
    "tr_cnot = tr(cnot)\n",
    "\n",
    "@testset \"linalg\" begin\n",
    "    @test sv_cnot ≈ ones(4)\n",
    "    @test ev_cnot ≈ [-1, 1, 1, 1]\n",
    "    @test q_cnot*q_cnot' ≈ I\n",
    "    @test det_cnot == -1\n",
    "    @test tr_cnot == 2\n",
    "end"
   ]
  },
  {
   "cell_type": "markdown",
   "metadata": {},
   "source": [
    "# Large sparse matrix eigensolver\n",
    "\n",
    "[KrylovKit](https://github.com/Jutho/KrylovKit.jl) is a package for solving large sparse matrix.\n",
    "\n",
    "\n",
    "### **Used in**\n",
    "* Exact diagonalization\n",
    "* Cluster pertubation theory (CPT)\n",
    "* Numerical Renomalization Group\n",
    "\n",
    "### **Challenge!**\n",
    "Get the lowest singular value of specific sparse matrix"
   ]
  },
  {
   "cell_type": "code",
   "execution_count": 23,
   "metadata": {},
   "outputs": [
    {
     "name": "stdout",
     "output_type": "stream",
     "text": [
      "\u001b[37m\u001b[1mTest Summary: | \u001b[22m\u001b[39m\u001b[32m\u001b[1mPass  \u001b[22m\u001b[39m\u001b[36m\u001b[1mTotal\u001b[22m\u001b[39m\n",
      "sparse        | \u001b[32m   2  \u001b[39m\u001b[36m    2\u001b[39m\n"
     ]
    },
    {
     "data": {
      "text/plain": [
       "Test.DefaultTestSet(\"sparse\", Any[], 2, false)"
      ]
     },
     "execution_count": 23,
     "metadata": {},
     "output_type": "execute_result"
    }
   ],
   "source": [
    "using SparseArrays: SparseMatrixCSC, sparse, nnz\n",
    "sp = kron(SparseMatrixCSC(cnot), sparse(I, 100, 100))\n",
    "\n",
    "# install `KrylovKit`\n",
    "# ev = <get lowest eigenvalue of sp>\n",
    "using KrylovKit: eigsolve\n",
    "vals = eigsolve(sp, 1, :SR)[1][1]\n",
    "\n",
    "@testset \"sparse\" begin\n",
    "    @test sp |> nnz == 100*4    # here `x |> f` is same as calling f(x).\n",
    "    @test vals[1] ≈ minimum(eigen(sp |> Matrix).values)\n",
    "end"
   ]
  },
  {
   "cell_type": "markdown",
   "metadata": {},
   "source": [
    "# Tensor contraction\n",
    "\n",
    "[TensorOperations](https://github.com/Jutho/TensorOperations.jl) is a high performance package for tensor contractions.\n",
    "\n",
    "### **Used in**\n",
    "* Tensor Networks (TRG, DMRG,...)\n",
    "\n",
    "\n",
    "### **Challenge!**\n",
    "Try to calculate the following contraction\n",
    "$C_{lj} = A_{i,j,k}B_{i,k,l}$"
   ]
  },
  {
   "cell_type": "code",
   "execution_count": 26,
   "metadata": {},
   "outputs": [
    {
     "data": {
      "text/plain": [
       "\u001b[32m\u001b[1mTest Passed\u001b[22m\u001b[39m"
      ]
     },
     "execution_count": 26,
     "metadata": {},
     "output_type": "execute_result"
    }
   ],
   "source": [
    "A = randn(6, 10, 5)\n",
    "B = randn(6, 5, 7)\n",
    "\n",
    "# install TensorOperations, and using it\n",
    "# @tensor C[a, b] := <specify contraction>\n",
    "\n",
    "using TensorOperations\n",
    "@tensor C[l,j] := A[i,j,k] * B[i,k,l]\n",
    "\n",
    "@test C |> size == (7, 10)"
   ]
  },
  {
   "cell_type": "markdown",
   "metadata": {},
   "source": [
    "# Save and load data\n",
    "\n",
    "[DelimitedFiles](https://docs.julialang.org/en/v1/stdlib/DelimitedFiles/index.html) is the `txt` format save and load standard module.\n",
    "\n",
    "[JLD2 and FileIO](https://github.com/simonster/JLD2.jl) uses HDF5 format to save and load, suited for large data file.\n",
    "\n",
    "\n",
    "### **Challenge!**\n",
    "Read out the saved data."
   ]
  },
  {
   "cell_type": "code",
   "execution_count": 30,
   "metadata": {},
   "outputs": [
    {
     "name": "stdout",
     "output_type": "stream",
     "text": [
      "\u001b[37m\u001b[1mTest Summary: | \u001b[22m\u001b[39m\u001b[32m\u001b[1mPass  \u001b[22m\u001b[39m\u001b[36m\u001b[1mTotal\u001b[22m\u001b[39m\n",
      "file reading  | \u001b[32m   2  \u001b[39m\u001b[36m    2\u001b[39m\n"
     ]
    },
    {
     "data": {
      "text/plain": [
       "Test.DefaultTestSet(\"file reading\", Any[], 2, false)"
      ]
     },
     "execution_count": 30,
     "metadata": {},
     "output_type": "execute_result"
    }
   ],
   "source": [
    "using DelimitedFiles\n",
    "\n",
    "a = randn(Float64, 3,3)\n",
    "writedlm(\"data/_test.dat\", a)\n",
    "# b = <read data from file `data/_test.dat`>\n",
    "b = readdlm(\"data/_test.dat\")\n",
    "\n",
    "# FileIO\n",
    "# install FileIO and JLD2\n",
    "using FileIO, JLD2\n",
    "jldopen(\"data/_example.jld2\", \"w\") do f\n",
    "    f[\"A\"] = a\n",
    "end\n",
    "\n",
    "# b_jld2 = <read data from file `data/_example.jld2`>\n",
    "b_jld2 = load(\"data/_example.jld2\")[\"A\"]\n",
    "@testset \"file reading\" begin\n",
    "    @test b ≈ a\n",
    "    @test b_jld2 ≈ a\n",
    "end"
   ]
  },
  {
   "cell_type": "markdown",
   "metadata": {},
   "source": [
    "# `################################################################`\n",
    "# Now, you can embrace the world of Notebooks!\n",
    "# But not the programmer's world, this is why we have an **ADVANCED SESSION** ;D\n",
    "# `################################################################`"
   ]
  },
  {
   "cell_type": "markdown",
   "metadata": {},
   "source": [
    "# Defining functions\n",
    "\n",
    "We have [multiple dispatch](https://docs.julialang.org/en/v1/manual/functions/) + [type tree](https://docs.julialang.org/en/v1/manual/types/) instead of classes in object oriented design."
   ]
  },
  {
   "cell_type": "code",
   "execution_count": 71,
   "metadata": {},
   "outputs": [
    {
     "name": "stdout",
     "output_type": "stream",
     "text": [
      "we get type `Int64`!\n",
      "\u001b[37m\u001b[1mTest Summary: | \u001b[22m\u001b[39m\u001b[32m\u001b[1mPass  \u001b[22m\u001b[39m\u001b[36m\u001b[1mTotal\u001b[22m\u001b[39m\n",
      "functions     | \u001b[32m   7  \u001b[39m\u001b[36m    7\u001b[39m\n"
     ]
    },
    {
     "data": {
      "text/plain": [
       "Test.DefaultTestSet(\"functions\", Any[], 7, false)"
      ]
     },
     "execution_count": 71,
     "metadata": {},
     "output_type": "execute_result"
    }
   ],
   "source": [
    "# define function f\n",
    "f(x) = x^2\n",
    "function f(x::Vector{T}) where T  # `where` means we want to know the type parameter T.\n",
    "    println(\"we get type `$T`!\")\n",
    "    append!(copy(x), x)\n",
    "end\n",
    "function f(x::Vector{<:Complex})\n",
    "    append!(copy(x), x |> conj)\n",
    "end\n",
    "# inplace vector version of f\n",
    "function f!(x::Vector)\n",
    "    append!(x, x)\n",
    "end\n",
    "f(x::String) = x^2\n",
    "\n",
    "@testset \"functions\" begin\n",
    "    @test f(3) == 9\n",
    "    @test f.([1,2,3,4,5]) == [1,4,9,16,25]  # broadcast\n",
    "    @test f(\"bili\") == \"bilibili\"\n",
    "    @test f.([\"bili\", \"dili\"]) == [\"bilibili\", \"dilidili\"]\n",
    "\n",
    "    x = [1, 2, 3]\n",
    "    y = [1im, 2+3im, 3]\n",
    "    @test f(x) == [1,2,3,1,2,3]  # repeat the array\n",
    "    @test f(y) == [1im,2+3im,3,-1im,2-3im,3]  # repeat, but with conjugate\n",
    "    y = copy(x)\n",
    "    @test (f!(y); y) == [1,2,3,1,2,3]  # inplace version of f\n",
    "end"
   ]
  },
  {
   "cell_type": "markdown",
   "metadata": {},
   "source": [
    "# Type Stability\n",
    "\n",
    "[Type stability](https://docs.julialang.org/en/v1/manual/performance-tips/index.html#Avoid-changing-the-type-of-a-variable-1) is the hardest and most important part of writing high performance Julia programs.\n",
    "\n",
    "### **Challenge!**\n",
    "Fix the allocation below to increase the performance of calculating Fibonacci."
   ]
  },
  {
   "cell_type": "code",
   "execution_count": 70,
   "metadata": {},
   "outputs": [
    {
     "data": {
      "text/plain": [
       "BenchmarkTools.Trial: \n",
       "  memory estimate:  0 bytes\n",
       "  allocs estimate:  0\n",
       "  --------------\n",
       "  minimum time:     2.034 ns (0.00% GC)\n",
       "  median time:      2.044 ns (0.00% GC)\n",
       "  mean time:        2.101 ns (0.00% GC)\n",
       "  maximum time:     82.409 ns (0.00% GC)\n",
       "  --------------\n",
       "  samples:          10000\n",
       "  evals/sample:     1000"
      ]
     },
     "metadata": {},
     "output_type": "display_data"
    },
    {
     "data": {
      "text/plain": [
       "nothing"
      ]
     },
     "metadata": {},
     "output_type": "display_data"
    },
    {
     "name": "stdout",
     "output_type": "stream",
     "text": [
      "Body\u001b[36m::Int64\u001b[39m\n",
      "\u001b[90m\u001b[55G│╻     -\u001b[1G\u001b[39m\u001b[90m5  \u001b[39m1 ── %1  = (Base.sub_int)(n, 1)\u001b[36m::Int64\u001b[39m\n",
      "\u001b[90m\u001b[55G││╻╷╷╷  Type\u001b[1G\u001b[39m\u001b[90m   \u001b[39m│    %2  = (Base.sle_int)(1, %1)\u001b[36m::Bool\u001b[39m\n",
      "\u001b[90m\u001b[55G│││╻     unitrange_last\u001b[1G\u001b[39m\u001b[90m   \u001b[39m│          (Base.sub_int)(%1, 1)\n",
      "\u001b[90m\u001b[55G││││  \u001b[1G\u001b[39m\u001b[90m   \u001b[39m│    %4  = (Base.ifelse)(%2, %1, 0)\u001b[36m::Int64\u001b[39m\n",
      "\u001b[90m\u001b[55G││╻╷╷   isempty\u001b[1G\u001b[39m\u001b[90m   \u001b[39m│    %5  = (Base.slt_int)(%4, 1)\u001b[36m::Bool\u001b[39m\n",
      "\u001b[90m\u001b[55G││    \u001b[1G\u001b[39m\u001b[90m   \u001b[39m└───       goto #3 if not %5\n",
      "\u001b[90m\u001b[55G││    \u001b[1G\u001b[39m\u001b[90m   \u001b[39m2 ──       goto #4\n",
      "\u001b[90m\u001b[55G││    \u001b[1G\u001b[39m\u001b[90m   \u001b[39m3 ──       goto #4\n",
      "\u001b[90m\u001b[55G│     \u001b[1G\u001b[39m\u001b[90m   \u001b[39m4 ┄─ %9  = φ (#2 => true, #3 => false)\u001b[36m::Bool\u001b[39m\n",
      "\u001b[90m\u001b[55G│     \u001b[1G\u001b[39m\u001b[90m   \u001b[39m│    %10 = φ (#3 => 1)\u001b[36m::Int64\u001b[39m\n",
      "\u001b[90m\u001b[55G│     \u001b[1G\u001b[39m\u001b[90m   \u001b[39m│    %11 = (Base.not_int)(%9)\u001b[36m::Bool\u001b[39m\n",
      "\u001b[90m\u001b[55G│     \u001b[1G\u001b[39m\u001b[90m   \u001b[39m└───       goto #10 if not %11\n",
      "\u001b[90m\u001b[55G│     \u001b[1G\u001b[39m\u001b[90m   \u001b[39m5 ┄─ %13 = φ (#4 => 0, #9 => %14)\u001b[36m::Int64\u001b[39m\n",
      "\u001b[90m\u001b[55G│     \u001b[1G\u001b[39m\u001b[90m   \u001b[39m│    %14 = φ (#4 => 1, #9 => %16)\u001b[36m::Int64\u001b[39m\n",
      "\u001b[90m\u001b[55G│     \u001b[1G\u001b[39m\u001b[90m   \u001b[39m│    %15 = φ (#4 => %10, #9 => %22)\u001b[36m::Int64\u001b[39m\n",
      "\u001b[90m\u001b[55G│╻     +\u001b[1G\u001b[39m\u001b[90m6  \u001b[39m│    %16 = (Base.add_int)(%13, %14)\u001b[36m::Int64\u001b[39m\n",
      "\u001b[90m\u001b[55G│╻╷    iterate\u001b[1G\u001b[39m\u001b[90m8  \u001b[39m│    %17 = (%15 === %4)\u001b[36m::Bool\u001b[39m\n",
      "\u001b[90m\u001b[55G││    \u001b[1G\u001b[39m\u001b[90m   \u001b[39m└───       goto #7 if not %17\n",
      "\u001b[90m\u001b[55G││    \u001b[1G\u001b[39m\u001b[90m   \u001b[39m6 ──       goto #8\n",
      "\u001b[90m\u001b[55G││╻     +\u001b[1G\u001b[39m\u001b[90m   \u001b[39m7 ── %20 = (Base.add_int)(%15, 1)\u001b[36m::Int64\u001b[39m\n",
      "\u001b[90m\u001b[55G│╻     iterate\u001b[1G\u001b[39m\u001b[90m   \u001b[39m└───       goto #8\n",
      "\u001b[90m\u001b[55G│     \u001b[1G\u001b[39m\u001b[90m   \u001b[39m8 ┄─ %22 = φ (#7 => %20)\u001b[36m::Int64\u001b[39m\n",
      "\u001b[90m\u001b[55G│     \u001b[1G\u001b[39m\u001b[90m   \u001b[39m│    %23 = φ (#6 => true, #7 => false)\u001b[36m::Bool\u001b[39m\n",
      "\u001b[90m\u001b[55G│     \u001b[1G\u001b[39m\u001b[90m   \u001b[39m│    %24 = (Base.not_int)(%23)\u001b[36m::Bool\u001b[39m\n",
      "\u001b[90m\u001b[55G│     \u001b[1G\u001b[39m\u001b[90m   \u001b[39m└───       goto #10 if not %24\n",
      "\u001b[90m\u001b[55G│     \u001b[1G\u001b[39m\u001b[90m   \u001b[39m9 ──       goto #5\n",
      "\u001b[90m\u001b[55G│     \u001b[1G\u001b[39m\u001b[90m10 \u001b[39m10 ─ %27 = φ (#8 => %16, #4 => 1)\u001b[36m::Int64\u001b[39m\n",
      "\u001b[90m\u001b[55G│     \u001b[1G\u001b[39m\u001b[90m   \u001b[39m└───       return %27\n"
     ]
    }
   ],
   "source": [
    "# fix Fibonacci to improve performance\n",
    "function fib(n)\n",
    "    a = 0\n",
    "    b = 1\n",
    "    for i = 1:n-1\n",
    "        c = a + b\n",
    "        a = b\n",
    "        b = c\n",
    "    end\n",
    "    b\n",
    "end\n",
    "display(@benchmark fib(30))\n",
    "display(@code_warntype fib(30))"
   ]
  },
  {
   "cell_type": "code",
   "execution_count": 68,
   "metadata": {},
   "outputs": [
    {
     "data": {
      "text/plain": [
       "BenchmarkTools.Trial: \n",
       "  memory estimate:  0 bytes\n",
       "  allocs estimate:  0\n",
       "  --------------\n",
       "  minimum time:     2.033 ns (0.00% GC)\n",
       "  median time:      2.482 ns (0.00% GC)\n",
       "  mean time:        2.396 ns (0.00% GC)\n",
       "  maximum time:     51.433 ns (0.00% GC)\n",
       "  --------------\n",
       "  samples:          10000\n",
       "  evals/sample:     1000"
      ]
     },
     "metadata": {},
     "output_type": "display_data"
    },
    {
     "name": "stdout",
     "output_type": "stream",
     "text": [
      "\u001b[37m\u001b[1mTest Summary: | \u001b[22m\u001b[39m\u001b[32m\u001b[1mPass  \u001b[22m\u001b[39m\u001b[36m\u001b[1mTotal\u001b[22m\u001b[39m\n",
      "fibonacci     | \u001b[32m   2  \u001b[39m\u001b[36m    2\u001b[39m\n"
     ]
    },
    {
     "data": {
      "text/plain": [
       "Test.DefaultTestSet(\"fibonacci\", Any[], 2, false)"
      ]
     },
     "execution_count": 68,
     "metadata": {},
     "output_type": "execute_result"
    }
   ],
   "source": [
    "@testset \"fibonacci\" begin\n",
    "    @test fib(30) == 832040\n",
    "    @test (@allocated fib(30))  == 0\n",
    "end"
   ]
  },
  {
   "cell_type": "markdown",
   "metadata": {},
   "source": [
    "# Final Boss\n",
    "\n",
    "Give data file `example.txt`, with each row a tuple of $i, j, w_{ij}$.\n",
    "The problems is to find the ground state configuration of the classical Ising hamiltonian $H = \\sum\\limits_{i,j} w_{ij}\\sigma_i \\sigma_j$\n",
    "\n",
    "This is the code chanlledge of 2016 UCAS summer school.\n",
    "\n",
    "### Simmulated Annealling\n",
    "Fix the code of simulated annealing\n",
    "\n",
    "1. correctify the code\n",
    "2. improve the performance"
   ]
  },
  {
   "cell_type": "code",
   "execution_count": 75,
   "metadata": {},
   "outputs": [],
   "source": [
    "# please open `simulated_annealing.ipynb` to continue"
   ]
  },
  {
   "cell_type": "code",
   "execution_count": null,
   "metadata": {},
   "outputs": [],
   "source": []
  }
 ],
 "metadata": {
  "kernelspec": {
   "display_name": "Julia 1.0.0",
   "language": "julia",
   "name": "julia-1.0"
  },
  "language_info": {
   "file_extension": ".jl",
   "mimetype": "application/julia",
   "name": "julia",
   "version": "1.0.0"
  }
 },
 "nbformat": 4,
 "nbformat_minor": 2
}
