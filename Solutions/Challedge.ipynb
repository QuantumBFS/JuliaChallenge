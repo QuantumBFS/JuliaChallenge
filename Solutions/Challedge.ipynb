{
 "cells": [
  {
   "cell_type": "markdown",
   "metadata": {},
   "source": [
    "# Section I: Basic Array Operations\n",
    "\n",
    "* To enter REPL, type `julia` in your terminal (PATH variable in shell should be set correctly).\n",
    "* To get help in REPL, type `?` to enter `API` mode.\n",
    "* To install a package, type `]` to enter `Pkg` mode. Type `?<Enter>` if you want some help in `Pkg` mode.\n",
    "* To run shell command in REPL, type `;` to enter shell mode.\n",
    "* To input `≈`, type `\\approx<TAB>`, see full list of unicode input of julia [here](https://docs.julialang.org/en/v1/manual/unicode-input/).\n",
    "* `@test` means stop program and throw and exception whenever a clause returns `false`. \"function\" start with `@` character is called a [macro](https://docs.julialang.org/en/v1/manual/metaprogramming/)."
   ]
  },
  {
   "cell_type": "code",
   "execution_count": null,
   "metadata": {},
   "outputs": [],
   "source": [
    "# Julia Matrix Operation is fast. To know how fast it is, you need a benchmark package. Type `]` and `add BenchmarkTools<Enter>` in your REPL.\n",
    "using BenchmarkTools, Test\n",
    "\n",
    "cnot = [1 0 0 0; 0 1 0 0; 0 0 0 1; 0 0 1 0]  # a matrix\n",
    "b = [1, 1im, true, 0.4e2] # a vector\n",
    "c = [1, 1im, 0.4e2, true] # a vector\n",
    "\n",
    "# run tests\n",
    "@test cnot*b ≈ c\n",
    "@test_throws DimensionMismatch cnot*randn(3)  # expected to raise specific error\n",
    "\n",
    "# run a benchmark\n",
    "res1 = @benchmark $cnot*$b  # `$` sign means evaluation first, used in `@benchmark` to avoid taking time to evaluate cnot input account."
   ]
  },
  {
   "cell_type": "markdown",
   "metadata": {},
   "source": [
    "# Can it be faster? Yes if the matrix is small and static!\n",
    "\n",
    "For static array, we can avoid all allocations.\n",
    "\n",
    "### **Used in**\n",
    "* Quantum Circuit Simulation\n",
    "\n",
    "### **Challenge!**\n",
    "Read the document of package `StaticArrays`\n",
    "https://github.com/JuliaArrays/StaticArrays.jl\n",
    "and show it is really fast!"
   ]
  },
  {
   "cell_type": "code",
   "execution_count": null,
   "metadata": {},
   "outputs": [],
   "source": [
    "# install `StaticArrays`\n",
    "# sa = <some static matrix> \n",
    "# sb = <some static vector> \n",
    "\n",
    "using StaticArrays: SMatrix, SVector\n",
    "scnot = SMatrix{4, 4}(cnot)\n",
    "sb = SVector{4}(b)\n",
    "\n",
    "\n",
    "@testset \"static arrays\" begin\n",
    "    @test scnot*sb ≈ c\n",
    "    using Statistics: median\n",
    "    res2 = @benchmark $scnot*$sb\n",
    "    @test median(res2).time < median(res1).time / 5  # at least 5 times faster\n",
    "end"
   ]
  },
  {
   "cell_type": "markdown",
   "metadata": {},
   "source": [
    "# Linear Algebra\n",
    "\n",
    "See [docs](https://docs.julialang.org/en/v1/stdlib/LinearAlgebra/).\n",
    "\n",
    "### **Used in**\n",
    "* Quantum Monte Carlo\n",
    "* Non-Interacting fermionic systems (include mean field)\n",
    "\n",
    "### **Challenge!**\n",
    "Try to figure out how to use get eigenvalues, singular values and qr and pass the test"
   ]
  },
  {
   "cell_type": "code",
   "execution_count": null,
   "metadata": {},
   "outputs": [],
   "source": [
    "using LinearAlgebra: eigen, svd, qr, I, det, tr\n",
    "# hint, here you probabily want to type `?` and `eigen<Enter>` to get help in an REPL.\n",
    "\n",
    "# sv_cnot = <get the singular value of matrix cnot>\n",
    "# ev_cnot = <get the eigenvalue of matrix cnot>\n",
    "# q_cnot = <get the Q matrix from QR decomposition of cnot>\n",
    "# det_cnot = <get the determinant of matrix cnot>\n",
    "# tr_cnot = <get the trace of matrix cnot>\n",
    "sv_cnot = svd(cnot).S\n",
    "ev_cnot = eigen(cnot).values\n",
    "q_cnot = qr(cnot).Q\n",
    "det_cnot = det(cnot)\n",
    "tr_cnot = tr(cnot)\n",
    "\n",
    "@testset \"linalg\" begin\n",
    "    @test sv_cnot ≈ ones(4)\n",
    "    @test ev_cnot ≈ [-1, 1, 1, 1]\n",
    "    @test q_cnot*q_cnot' ≈ I\n",
    "    @test det_cnot == -1\n",
    "    @test tr_cnot == 2\n",
    "end"
   ]
  },
  {
   "cell_type": "markdown",
   "metadata": {},
   "source": [
    "# Large sparse matrix eigensolver\n",
    "\n",
    "[KrylovKit](https://github.com/Jutho/KrylovKit.jl) is a package for solving large sparse matrix.\n",
    "\n",
    "\n",
    "### **Used in**\n",
    "* Exact diagonalization\n",
    "* Cluster pertubation theory (CPT)\n",
    "* Numerical Renomalization Group\n",
    "\n",
    "### **Challenge!**\n",
    "Get the lowest singular value of specific sparse matrix"
   ]
  },
  {
   "cell_type": "code",
   "execution_count": null,
   "metadata": {},
   "outputs": [],
   "source": [
    "using SparseArrays: SparseMatrixCSC, sparse, nnz\n",
    "sp = kron(SparseMatrixCSC(cnot), sparse(I, 100, 100))\n",
    "\n",
    "# install `KrylovKit`\n",
    "# ev = <get lowest eigenvalue of sp>\n",
    "using KrylovKit: eigsolve\n",
    "vals = eigsolve(sp, 1, :SR)[1][1]\n",
    "\n",
    "@testset \"sparse\" begin\n",
    "    @test sp |> nnz == 100*4    # here `x |> f` is same as calling f(x).\n",
    "    @test vals[1] ≈ minimum(eigen(sp |> Matrix).values)\n",
    "end"
   ]
  },
  {
   "cell_type": "markdown",
   "metadata": {},
   "source": [
    "# Tensor contraction\n",
    "\n",
    "[TensorOperations](https://github.com/Jutho/TensorOperations.jl) is a high performance package for tensor contractions.\n",
    "\n",
    "### **Used in**\n",
    "* Tensor Networks (TRG, DMRG,...)\n",
    "\n",
    "\n",
    "### **Challenge!**\n",
    "Try to calculate the following contraction\n",
    "$C_{lj} = A_{i,j,k}B_{i,k,l}$"
   ]
  },
  {
   "cell_type": "code",
   "execution_count": null,
   "metadata": {},
   "outputs": [],
   "source": [
    "A = randn(6, 10, 5)\n",
    "B = randn(6, 5, 7)\n",
    "\n",
    "# install TensorOperations, and using it\n",
    "# @tensor C[a, b] := <specify contraction>\n",
    "\n",
    "using TensorOperations\n",
    "@tensor C[l,j] := A[i,j,k] * B[i,k,l]\n",
    "\n",
    "@test C |> size == (7, 10)"
   ]
  },
  {
   "cell_type": "markdown",
   "metadata": {},
   "source": [
    "# Save and load data\n",
    "\n",
    "[DelimitedFiles](https://docs.julialang.org/en/v1/stdlib/DelimitedFiles/index.html) is the `txt` format save and load standard module.\n",
    "\n",
    "[JLD2 and FileIO](https://github.com/simonster/JLD2.jl) uses HDF5 format to save and load, suited for large data file.\n",
    "\n",
    "\n",
    "### **Challenge!**\n",
    "Read out the saved data."
   ]
  },
  {
   "cell_type": "code",
   "execution_count": null,
   "metadata": {},
   "outputs": [],
   "source": [
    "using DelimitedFiles\n",
    "\n",
    "a = randn(Float64, 3,3)\n",
    "writedlm(\"data/_test.dat\", a)\n",
    "# b = <read data from file `data/_test.dat`>\n",
    "b = readdlm(\"data/_test.dat\")\n",
    "\n",
    "# FileIO\n",
    "# install FileIO and JLD2\n",
    "using FileIO, JLD2\n",
    "jldopen(\"data/_example.jld2\", \"w\") do f\n",
    "    f[\"A\"] = a\n",
    "end\n",
    "\n",
    "# b_jld2 = <read data from file `data/_example.jld2`>\n",
    "b_jld2 = load(\"data/_example.jld2\")[\"A\"]\n",
    "@testset \"file reading\" begin\n",
    "    @test b ≈ a\n",
    "    @test b_jld2 ≈ a\n",
    "end"
   ]
  },
  {
   "cell_type": "markdown",
   "metadata": {},
   "source": [
    "# Section II: Road to Master"
   ]
  },
  {
   "cell_type": "markdown",
   "metadata": {},
   "source": [
    "# Defining functions\n",
    "\n",
    "We have [multiple dispatch](https://docs.julialang.org/en/v1/manual/functions/) + [type tree](https://docs.julialang.org/en/v1/manual/types/) instead of classes in object oriented design."
   ]
  },
  {
   "cell_type": "code",
   "execution_count": null,
   "metadata": {},
   "outputs": [],
   "source": [
    "\"\"\"This is a utility of showing subtype tree.\"\"\"\n",
    "function subtypetree(t, level=1, indent=4)\n",
    "   level == 1 && println(t)\n",
    "   for s in subtypes(t)\n",
    "     println(join(fill(\" \", level * indent)) * string(s))\n",
    "     subtypetree(s, level+1, indent)\n",
    "   end\n",
    "end"
   ]
  },
  {
   "cell_type": "code",
   "execution_count": null,
   "metadata": {},
   "outputs": [],
   "source": [
    "subtypetree(Number)"
   ]
  },
  {
   "cell_type": "code",
   "execution_count": null,
   "metadata": {},
   "outputs": [],
   "source": [
    "dump(Array)"
   ]
  },
  {
   "cell_type": "markdown",
   "metadata": {},
   "source": [
    "### **Challendge!**\n",
    "Fix following tests"
   ]
  },
  {
   "cell_type": "code",
   "execution_count": null,
   "metadata": {},
   "outputs": [],
   "source": [
    "@testset \"types\" begin\n",
    "    @test 1.0 isa Float64\n",
    "    @test 1.0 isa Real\n",
    "    @test typeof(1.0) == Float64\n",
    "    \n",
    "    # type relation\n",
    "    @test Int64 <: Int\n",
    "    @test Int64 === Int\n",
    "    @test Int64 <: Integer\n",
    "    @test Int64 <: Union{Int64, Complex}\n",
    "    @test Array{ComplexF64, 3} <: Array{ComplexF64}\n",
    "    @test Array{ComplexF64, 3} <: Array{<:Complex, 3}\n",
    "    @test supertype(Integer) == Real\n",
    "    @test Signed in subtypes(Integer)\n",
    "    \n",
    "    # type promotion\n",
    "    @test eltype(promote(1.0, 2im)) == ComplexF64\n",
    "    @test promote_type(Float32, Float64) == Float64\n",
    "    @test promote_type(Int64, Real, Float64) == Real\n",
    "    \n",
    "    # element types\n",
    "    @test eltype([1, 2, 3.0]) == Float64\n",
    "    @test eltype(Int[1, 2, 3.0]) == Int64\n",
    "    \n",
    "end"
   ]
  },
  {
   "cell_type": "code",
   "execution_count": null,
   "metadata": {},
   "outputs": [],
   "source": [
    "# define function f\n",
    "f(x) = x^2\n",
    "function f(x::Vector{T}) where T  # `where` means we want to know the type parameter T.\n",
    "    println(\"we get type `$T`!\")\n",
    "    append!(copy(x), x)\n",
    "end\n",
    "function f(x::Vector{<:Complex})\n",
    "    append!(copy(x), x |> conj)\n",
    "end\n",
    "# inplace vector version of f\n",
    "function f!(x::Vector)\n",
    "    append!(x, x)\n",
    "end\n",
    "f(x::String) = x^2\n",
    "macro f(x)\n",
    "   return :($(x^2))\n",
    "end\n",
    "\n",
    "#=\n",
    "    define function f here\n",
    "=#\n",
    "@testset \"functions\" begin\n",
    "    # function and broadcast\n",
    "    @test f(3) == 9\n",
    "    @test f.([1,2,3,4,5]) == [1,4,9,16,25]  # broadcast\n",
    "    \n",
    "    # macro\n",
    "    @test (@f 3) == 9\n",
    "    #=\n",
    "    var = 3\n",
    "    @test (@f var) == 9     # try to uncomment this line!\n",
    "    =#\n",
    "    \n",
    "    @test f(\"bili\") == \"bilibili\"\n",
    "    @test f.([\"bili\", \"dili\"]) == [\"bilibili\", \"dilidili\"]\n",
    "\n",
    "    x = [1, 2, 3]\n",
    "    y = [1im, 2+3im, 3]\n",
    "    @test f(x) == [1,2,3,1,2,3]  # repeat the array\n",
    "    @test f(y) == [1im,2+3im,3,-1im,2-3im,3]  # repeat, but with conjugate\n",
    "    y = copy(x)\n",
    "    @test (f!(y); y) == [1,2,3,1,2,3]  # inplace version of f\n",
    "end"
   ]
  },
  {
   "cell_type": "markdown",
   "metadata": {},
   "source": [
    "### **Challenge!**\n",
    "Metaprogramming can be used to generate functions! Try to generate functions after reading [this section](https://docs.julialang.org/en/v1/manual/metaprogramming/#Generated-functions-1).\n",
    "\n",
    "Metaprogramming is a **black technology** in Julia, especially important in multiple dispatch framework. It will save you time if used properly, but can also cause trouble in code readability (where is this function defined?)."
   ]
  },
  {
   "cell_type": "code",
   "execution_count": null,
   "metadata": {},
   "outputs": [],
   "source": [
    "FUNCS = Symbol.('a' .+ (0:4))\n",
    "\n",
    "for FUNC in FUNCS\n",
    "    @eval $(Symbol(FUNC, :_gen))(x::Int) = x^2\n",
    "end\n",
    "\n",
    "@testset \"generated functions\" begin\n",
    "    @test a_gen(3) == 9\n",
    "    @test b_gen(3) == 9\n",
    "    @test c_gen(3) == 9\n",
    "    @test d_gen(3) == 9\n",
    "    @test e_gen(3) == 9\n",
    "end"
   ]
  },
  {
   "cell_type": "markdown",
   "metadata": {},
   "source": [
    "# Type Stability\n",
    "\n",
    "[Type stability](https://docs.julialang.org/en/v1/manual/performance-tips/index.html#Avoid-changing-the-type-of-a-variable-1) is the hardest and most important part of writing high performance Julia programs.\n",
    "\n",
    "### **Challenge!**\n",
    "Fix the allocation below to increase the performance of calculating Fibonacci."
   ]
  },
  {
   "cell_type": "code",
   "execution_count": null,
   "metadata": {},
   "outputs": [],
   "source": [
    "# fix Fibonacci to improve performance\n",
    "function fib(n)\n",
    "    a = 0\n",
    "    b = 1\n",
    "    for i = 1:n-1\n",
    "        c = a + b\n",
    "        a = b\n",
    "        b = c\n",
    "    end\n",
    "    b\n",
    "end\n",
    "display(@benchmark fib(30))\n",
    "display(@code_warntype fib(30))"
   ]
  },
  {
   "cell_type": "code",
   "execution_count": null,
   "metadata": {},
   "outputs": [],
   "source": [
    "@testset \"fibonacci\" begin\n",
    "    @test fib(30) == 832040\n",
    "    @test (@allocated fib(30))  == 0\n",
    "end"
   ]
  },
  {
   "cell_type": "markdown",
   "metadata": {},
   "source": [
    "# Final Challenge\n",
    "\n",
    "Give data file `example.txt`, with each row a tuple of $i, j, w_{ij}$.\n",
    "The problems is to find the ground state configuration of the classical Ising hamiltonian $H = \\sum\\limits_{i,j} w_{ij}\\sigma_i \\sigma_j$\n",
    "\n",
    "This is the code chanlledge of 2016 UCAS summer school.\n",
    "\n",
    "### Simmulated Annealling\n",
    "Fix the code of simulated annealing\n",
    "\n",
    "1. correctify the code\n",
    "2. improve the performance"
   ]
  },
  {
   "cell_type": "code",
   "execution_count": null,
   "metadata": {},
   "outputs": [],
   "source": [
    "# please open `simulated_annealing.ipynb` to continue"
   ]
  },
  {
   "cell_type": "code",
   "execution_count": null,
   "metadata": {},
   "outputs": [],
   "source": []
  }
 ],
 "metadata": {
  "kernelspec": {
   "display_name": "Julia 1.0.0",
   "language": "julia",
   "name": "julia-1.0"
  },
  "language_info": {
   "file_extension": ".jl",
   "mimetype": "application/julia",
   "name": "julia",
   "version": "1.0.0"
  }
 },
 "nbformat": 4,
 "nbformat_minor": 2
}
