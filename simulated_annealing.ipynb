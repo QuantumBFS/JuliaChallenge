{
 "cells": [
  {
   "cell_type": "markdown",
   "metadata": {},
   "source": [
    "# Load data file"
   ]
  },
  {
   "cell_type": "code",
   "execution_count": 1,
   "metadata": {},
   "outputs": [
    {
     "data": {
      "text/plain": [
       "load_coupling (generic function with 1 method)"
      ]
     },
     "execution_count": 1,
     "metadata": {},
     "output_type": "execute_result"
    }
   ],
   "source": [
    "using DelimitedFiles\n",
    "\n",
    "\"\"\"General Annealing Problem\"\"\"\n",
    "abstract type AnnealingProblem end\n",
    "\n",
    "\"\"\"\n",
    "    SpinAnnealingProblem{T<:Real} <: AnnealingProblem\n",
    "\n",
    "Annealing problem defined by coupling matrix of spins.\n",
    "\"\"\"\n",
    "struct SpinAnnealingProblem{T<:Real} <: AnnealingProblem  # immutable, with type parameter T (a subtype of Real).\n",
    "    num_spin::Int\n",
    "    coupling::Matrix{T}\n",
    "    function SpinAnnealingProblem(coupling::Matrix{T}) where T\n",
    "        size(coupling, 1) == size(coupling, 2) || throw(DimensionMismatch(\"input must be square matrix.\"))\n",
    "        new{T}(size(coupling, 1), coupling)\n",
    "    end\n",
    "end\n",
    "\n",
    "\"\"\"\n",
    "    load_coupling(filename::String) -> SpinAnnealingProblem\n",
    "\n",
    "Load the data file into symmtric coupling matrix.\n",
    "\"\"\"\n",
    "function load_coupling(filename::String)\n",
    "    data = readdlm(filename)\n",
    "    is = Int.(view(data, :, 1)) .+ 1\n",
    "    js = Int.(view(data, :, 2)) .+ 1\n",
    "    weights = data[:,3]\n",
    "    num_spin = max(maximum(is), maximum(js))\n",
    "    J = Matrix{eltype(weights)}(undef, num_spin, num_spin)\n",
    "    for (i, j, weight) = zip(is, js, weights)\n",
    "        J[i,j] = weight/2\n",
    "        J[j,i] = weight/2\n",
    "    end\n",
    "    SpinAnnealingProblem(J)\n",
    "end"
   ]
  },
  {
   "cell_type": "code",
   "execution_count": 2,
   "metadata": {},
   "outputs": [
    {
     "data": {
      "text/markdown": [
       "No documentation found.\n",
       "\n",
       "`load_coupling` is a `Function`.\n",
       "\n",
       "```\n",
       "# 1 method for generic function \"load_coupling\":\n",
       "[1] load_coupling(filename::String) in Main at In[1]:26\n",
       "```\n"
      ],
      "text/plain": [
       "  No documentation found.\n",
       "\n",
       "  \u001b[36mload_coupling\u001b[39m is a \u001b[36mFunction\u001b[39m.\n",
       "\n",
       "\u001b[36m  # 1 method for generic function \"load_coupling\":\u001b[39m\n",
       "\u001b[36m  [1] load_coupling(filename::String) in Main at In[1]:26\u001b[39m"
      ]
     },
     "execution_count": 2,
     "metadata": {},
     "output_type": "execute_result"
    }
   ],
   "source": [
    "@doc load_coupling"
   ]
  },
  {
   "cell_type": "code",
   "execution_count": 3,
   "metadata": {},
   "outputs": [
    {
     "data": {
      "text/plain": [
       "SpinAnnealingProblem{Float64}(300, [0.0 0.5 … -0.5 -0.5; 0.5 0.0 … 0.5 -0.5; … ; -0.5 0.5 … 0.0 0.5; -0.5 -0.5 … 0.5 0.0])"
      ]
     },
     "execution_count": 3,
     "metadata": {},
     "output_type": "execute_result"
    }
   ],
   "source": [
    "sap = load_coupling(\"example.txt\")"
   ]
  },
  {
   "cell_type": "code",
   "execution_count": 65,
   "metadata": {},
   "outputs": [
    {
     "data": {
      "text/plain": [
       "random_config (generic function with 1 method)"
      ]
     },
     "execution_count": 65,
     "metadata": {},
     "output_type": "execute_result"
    }
   ],
   "source": [
    "abstract type AnnealingConfig end\n",
    "\n",
    "struct SpinConfig{Ts, Tf} <: AnnealingConfig\n",
    "    config::Vector{Ts}\n",
    "    field::Vector{Tf}\n",
    "    SpinConfig(config::Vector{Ts}, field::Vector{Tf}) where {Ts, Tf} = new{Ts, Tf}(config, field)\n",
    "end\n",
    "\n",
    "\"\"\"\n",
    "    random_config(prblm::AnnealingProblem) -> SpinConfig\n",
    "\n",
    "Random spin configuration.\n",
    "\"\"\"\n",
    "function random_config end\n",
    "\n",
    "function random_config(prblm::SpinAnnealingProblem)\n",
    "    config = rand([-1,1], prblm.num_spin)\n",
    "    SpinConfig(config, prblm.coupling*config)\n",
    "end"
   ]
  },
  {
   "cell_type": "code",
   "execution_count": 66,
   "metadata": {},
   "outputs": [
    {
     "data": {
      "text/plain": [
       "SpinConfig{Int64,Float64}([1, 1, -1, 1, -1, -1, 1, -1, 1, -1  …  -1, -1, -1, 1, 1, 1, 1, 1, 1, 1], [-2.5, -9.5, 12.5, -4.5, 12.5, 9.5, -3.5, -5.5, 9.5, 2.5  …  4.5, -6.5, -12.5, -15.5, -3.5, -9.5, 0.5, 4.5, 2.5, -20.5])"
      ]
     },
     "execution_count": 66,
     "metadata": {},
     "output_type": "execute_result"
    }
   ],
   "source": [
    "initial_config = random_config(sap)"
   ]
  },
  {
   "cell_type": "code",
   "execution_count": 76,
   "metadata": {},
   "outputs": [
    {
     "data": {
      "text/plain": [
       "anneal (generic function with 1 method)"
      ]
     },
     "execution_count": 76,
     "metadata": {},
     "output_type": "execute_result"
    }
   ],
   "source": [
    "\"\"\"\n",
    "    anneal_singlerun!(config::AnnealingConfig, prblm, tempscales::Vector{Float64}, num_update_each_temp::Int)\n",
    "\n",
    "Perform Simulated Annealing using Metropolis updates for the single run.\n",
    "\n",
    "    * configuration that can be updated.\n",
    "    * prblm: problem with `get_cost`, `flip!` and `random_config` interfaces.\n",
    "    * tempscales: temperature scales, which should be a decreasing array.\n",
    "    * num_update_each_temp: the number of update in each temprature scale.\n",
    "\n",
    "Returns (minimum cost, optimal configuration).\n",
    "\"\"\"\n",
    "function anneal_singlerun!(config, prblm, tempscales::Vector{Float64}, num_update_each_temp::Int)\n",
    "    cost = get_cost(config, prblm)\n",
    "    \n",
    "    opt_config = config\n",
    "    opt_cost = cost\n",
    "    for beta = 1 ./ tempscales\n",
    "        @simd for m = 1:num_update_each_temp\n",
    "            proposal, ΔE = propose(config, prblm)\n",
    "            if exp(-beta*ΔE) > rand()  #accept\n",
    "                flip!(config, proposal, prblm)\n",
    "                cost += ΔE\n",
    "                if cost < opt_cost\n",
    "                    opt_cost = cost\n",
    "                    opt_config = config\n",
    "                end\n",
    "            end\n",
    "        end\n",
    "    end\n",
    "    opt_cost, opt_config\n",
    "end\n",
    " \n",
    "\"\"\"\n",
    "    anneal(nrun::Int, prblm, tempscales::Vector{Float64}, num_update_each_temp::Int)\n",
    "\n",
    "Perform Simulated Annealing with multiple runs.\n",
    "\"\"\"\n",
    "function anneal(nrun::Int, prblm, tempscales::Vector{Float64}, num_update_each_temp::Int)\n",
    "    local opt_cost, opt_config\n",
    "    for r = 1:nrun\n",
    "        initial_config = random_config(prblm)\n",
    "        cost, config = anneal_singlerun!(initial_config, prblm, tempscales, num_update_each_temp)\n",
    "        if r == 1 || cost < opt_cost\n",
    "            opt_cost = cost\n",
    "            opt_config = config\n",
    "        end\n",
    "        # println(\"$r-th run, cost = $cost\")\n",
    "    end\n",
    "    opt_cost, opt_config\n",
    "end\n"
   ]
  },
  {
   "cell_type": "code",
   "execution_count": 77,
   "metadata": {},
   "outputs": [
    {
     "data": {
      "text/plain": [
       "flip! (generic function with 1 method)"
      ]
     },
     "execution_count": 77,
     "metadata": {},
     "output_type": "execute_result"
    }
   ],
   "source": [
    "get_cost(config::SpinConfig, sap::SpinAnnealingProblem) = sum(config.config'*sap.coupling*config.config)\n",
    "\n",
    "@inline function propose(config::SpinConfig, ::SpinAnnealingProblem)  # ommit the name of argument, since not used.\n",
    "    ispin = rand(1:length(config.config))\n",
    "    @inbounds ΔE = -config.field[ispin] * config.config[ispin] * 4 # 2 for spin change, 2 for mutual energy.\n",
    "    ispin, ΔE\n",
    "end\n",
    "\n",
    "@inline function flip!(config::SpinConfig, ispin::Int, sap::SpinAnnealingProblem)\n",
    "    @inbounds config.config[ispin] = -config.config[ispin]\n",
    "    # update field\n",
    "    # config.field .+= 2 .* config.config[ispin] .* view(sap.coupling,:,ispin)\n",
    "    @simd for i=1:sap.num_spin\n",
    "        @inbounds config.field[i] += 2 * config.config[ispin] * sap.coupling[i,ispin]\n",
    "    end\n",
    "    config\n",
    "    #* config.field .+= 2 .* config.config[ispin] .* sap.coupling[:,ispin]\n",
    "end"
   ]
  },
  {
   "cell_type": "code",
   "execution_count": 78,
   "metadata": {},
   "outputs": [],
   "source": [
    "tempscales = 10 .- (1:64 .- 1) .* 0.15 |> collect;"
   ]
  },
  {
   "cell_type": "code",
   "execution_count": 79,
   "metadata": {},
   "outputs": [
    {
     "data": {
      "text/plain": [
       "BenchmarkTools.Trial: \n",
       "  memory estimate:  398.00 KiB\n",
       "  allocs estimate:  271\n",
       "  --------------\n",
       "  minimum time:     658.964 ms (0.00% GC)\n",
       "  median time:      682.024 ms (0.00% GC)\n",
       "  mean time:        704.124 ms (0.00% GC)\n",
       "  maximum time:     846.126 ms (0.00% GC)\n",
       "  --------------\n",
       "  samples:          8\n",
       "  evals/sample:     1"
      ]
     },
     "execution_count": 79,
     "metadata": {},
     "output_type": "execute_result"
    }
   ],
   "source": [
    "using BenchmarkTools\n",
    "@benchmark anneal(30, sap, tempscales, 4000)"
   ]
  },
  {
   "cell_type": "code",
   "execution_count": null,
   "metadata": {},
   "outputs": [],
   "source": [
    "# calling Fortran program\n",
    "https://docs.julialang.org/en/v1/manual/calling-c-and-fortran-code/index.html"
   ]
  },
  {
   "cell_type": "code",
   "execution_count": null,
   "metadata": {},
   "outputs": [],
   "source": [
    "# @profile to see the bottleneck of this program\n",
    "# @code_warntype to analyse the bottleneck.\n"
   ]
  }
 ],
 "metadata": {
  "kernelspec": {
   "display_name": "Julia 1.0.0",
   "language": "julia",
   "name": "julia-1.0"
  },
  "language_info": {
   "file_extension": ".jl",
   "mimetype": "application/julia",
   "name": "julia",
   "version": "1.0.0"
  }
 },
 "nbformat": 4,
 "nbformat_minor": 2
}
